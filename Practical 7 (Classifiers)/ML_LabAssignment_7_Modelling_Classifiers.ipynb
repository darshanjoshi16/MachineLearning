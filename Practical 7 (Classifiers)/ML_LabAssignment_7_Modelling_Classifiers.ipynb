{
  "nbformat": 4,
  "nbformat_minor": 0,
  "metadata": {
    "colab": {
      "provenance": [],
      "collapsed_sections": [
        "sFjX9-3PCG74",
        "cNcnUH01CS2b",
        "G4L2fococHU9",
        "dbk_HUpOcVbz"
      ],
      "authorship_tag": "ABX9TyOnpNtWH0kKCV8HR+oa653r",
      "include_colab_link": true
    },
    "kernelspec": {
      "name": "python3",
      "display_name": "Python 3"
    },
    "language_info": {
      "name": "python"
    }
  },
  "cells": [
    {
      "cell_type": "markdown",
      "metadata": {
        "id": "view-in-github",
        "colab_type": "text"
      },
      "source": [
        "<a href=\"https://colab.research.google.com/github/darshanjoshi16/MachineLearningPracticals/blob/main/Practical%207%20(Classifiers)/ML_LabAssignment_7_Modelling_Classifiers.ipynb\" target=\"_parent\"><img src=\"https://colab.research.google.com/assets/colab-badge.svg\" alt=\"Open In Colab\"/></a>"
      ]
    },
    {
      "cell_type": "markdown",
      "source": [
        "# Section 1: Sampling the Data"
      ],
      "metadata": {
        "id": "sFjX9-3PCG74"
      }
    },
    {
      "cell_type": "markdown",
      "source": [
        "1) Demonstrate the following using sklearn library:\n",
        "\n",
        "a) Holdout method\n",
        "\n",
        "b) K-fold Cross Validation\n",
        "\n",
        "c) Bootstrap sampling"
      ],
      "metadata": {
        "id": "8AnmNtuR-Vg0"
      }
    },
    {
      "cell_type": "code",
      "execution_count": 1,
      "metadata": {
        "colab": {
          "base_uri": "https://localhost:8080/"
        },
        "id": "A1CflUqH8-zJ",
        "outputId": "4b9249d1-678b-4b92-f971-3d965ba4f708"
      },
      "outputs": [
        {
          "output_type": "stream",
          "name": "stdout",
          "text": [
            "Data: \n",
            " [[  0   1   2   3   4   5   6   7   8   9]\n",
            " [ 10  11  12  13  14  15  16  17  18  19]\n",
            " [ 20  21  22  23  24  25  26  27  28  29]\n",
            " [ 30  31  32  33  34  35  36  37  38  39]\n",
            " [ 40  41  42  43  44  45  46  47  48  49]\n",
            " [ 50  51  52  53  54  55  56  57  58  59]\n",
            " [ 60  61  62  63  64  65  66  67  68  69]\n",
            " [ 70  71  72  73  74  75  76  77  78  79]\n",
            " [ 80  81  82  83  84  85  86  87  88  89]\n",
            " [ 90  91  92  93  94  95  96  97  98  99]\n",
            " [100 101 102 103 104 105 106 107 108 109]\n",
            " [110 111 112 113 114 115 116 117 118 119]\n",
            " [120 121 122 123 124 125 126 127 128 129]\n",
            " [130 131 132 133 134 135 136 137 138 139]\n",
            " [140 141 142 143 144 145 146 147 148 149]\n",
            " [150 151 152 153 154 155 156 157 158 159]\n",
            " [160 161 162 163 164 165 166 167 168 169]\n",
            " [170 171 172 173 174 175 176 177 178 179]\n",
            " [180 181 182 183 184 185 186 187 188 189]\n",
            " [190 191 192 193 194 195 196 197 198 199]]\n",
            "Length of Training Data:\n",
            " 10\n",
            "Length of Testing Data:\n",
            " 10\n",
            "Training Data:\n",
            " [[ 10  11  12  13  14  15  16  17  18  19]\n",
            " [180 181 182 183 184 185 186 187 188 189]\n",
            " [ 20  21  22  23  24  25  26  27  28  29]\n",
            " [ 70  71  72  73  74  75  76  77  78  79]\n",
            " [120 121 122 123 124 125 126 127 128 129]\n",
            " [ 40  41  42  43  44  45  46  47  48  49]\n",
            " [170 171 172 173 174 175 176 177 178 179]\n",
            " [130 131 132 133 134 135 136 137 138 139]\n",
            " [190 191 192 193 194 195 196 197 198 199]\n",
            " [ 50  51  52  53  54  55  56  57  58  59]]\n",
            "Testing Data:\n",
            " [[110 111 112 113 114 115 116 117 118 119]\n",
            " [  0   1   2   3   4   5   6   7   8   9]\n",
            " [150 151 152 153 154 155 156 157 158 159]\n",
            " [140 141 142 143 144 145 146 147 148 149]\n",
            " [ 90  91  92  93  94  95  96  97  98  99]\n",
            " [ 60  61  62  63  64  65  66  67  68  69]\n",
            " [100 101 102 103 104 105 106 107 108 109]\n",
            " [ 80  81  82  83  84  85  86  87  88  89]\n",
            " [160 161 162 163 164 165 166 167 168 169]\n",
            " [ 30  31  32  33  34  35  36  37  38  39]]\n"
          ]
        }
      ],
      "source": [
        "#using the holdout method\n",
        "#importing the libraries\n",
        "import numpy as np\n",
        "from sklearn.model_selection import train_test_split  \n",
        "\n",
        "#creating the data array\n",
        "X = np.arange(200).reshape((20, 10))\n",
        "print(\"Data: \\n\",X)\n",
        "\n",
        "#splitting the data in training and testing part\n",
        "data_train, data_test= train_test_split(X,test_size=0.5, random_state=30)\n",
        "\n",
        "#describing the data after holdout method\n",
        "print(\"Length of Training Data:\\n\",len(data_train))\n",
        "print(\"Length of Testing Data:\\n\",len(data_test))\n",
        "print(\"Training Data:\\n\",data_train)\n",
        "print(\"Testing Data:\\n\",data_test)"
      ]
    },
    {
      "cell_type": "code",
      "source": [
        "# Using K-fold cross validation method\n",
        "\n",
        "#importing the libraries\n",
        "from sklearn.model_selection import KFold\n",
        "\n",
        "#creating the data array\n",
        "data = np.arange(20,50)\n",
        "\n",
        "#calling the method by preparing the K-fold\n",
        "kfold = KFold(5)\n",
        "\n",
        "# enumerate splits\n",
        "for train_index, test_index in kfold.split(data):\n",
        "  print('train: %s \\n test: %s' % (data[train_index], data[test_index]))\n"
      ],
      "metadata": {
        "colab": {
          "base_uri": "https://localhost:8080/"
        },
        "id": "F4VaiM03_uwF",
        "outputId": "b369a09f-3f84-4c46-dd79-a6a29feb4ffe"
      },
      "execution_count": 3,
      "outputs": [
        {
          "output_type": "stream",
          "name": "stdout",
          "text": [
            "train: [26 27 28 29 30 31 32 33 34 35 36 37 38 39 40 41 42 43 44 45 46 47 48 49] \n",
            " test: [20 21 22 23 24 25]\n",
            "train: [20 21 22 23 24 25 32 33 34 35 36 37 38 39 40 41 42 43 44 45 46 47 48 49] \n",
            " test: [26 27 28 29 30 31]\n",
            "train: [20 21 22 23 24 25 26 27 28 29 30 31 38 39 40 41 42 43 44 45 46 47 48 49] \n",
            " test: [32 33 34 35 36 37]\n",
            "train: [20 21 22 23 24 25 26 27 28 29 30 31 32 33 34 35 36 37 44 45 46 47 48 49] \n",
            " test: [38 39 40 41 42 43]\n",
            "train: [20 21 22 23 24 25 26 27 28 29 30 31 32 33 34 35 36 37 38 39 40 41 42 43] \n",
            " test: [44 45 46 47 48 49]\n"
          ]
        }
      ]
    },
    {
      "cell_type": "code",
      "source": [
        "#using the random sampling method\n",
        "#importing the libraries\n",
        "import pandas as pd\n",
        "from sklearn.utils import resample   \n",
        "\n",
        "#creating the dataframe\n",
        "df = {'Name':['Darshan','Abhishek','Shiv','Harsh','Neel'],'SPI':['8.7','9.2','8.6','7.8','7.6'],'store':[1,2,3,3,2]}\n",
        "df = pd.DataFrame(df)\n",
        "\n",
        "print(\"Before the sampling\")\n",
        "print(\"*\"*50)\n",
        "#showing the dataframe\n",
        "print(df)\n",
        "\n",
        "#applying the random sampling\n",
        "df = resample(df,random_state=25,n_samples=15)\n",
        "\n",
        "print(\"After the sampling\")\n",
        "print(\"*\"*50)\n",
        "print(df)"
      ],
      "metadata": {
        "colab": {
          "base_uri": "https://localhost:8080/"
        },
        "id": "WbSiMDApAtvN",
        "outputId": "dbda76b6-0f63-491b-b6ee-d92c5c62251a"
      },
      "execution_count": 8,
      "outputs": [
        {
          "output_type": "stream",
          "name": "stdout",
          "text": [
            "Before the sampling\n",
            "**************************************************\n",
            "       Name  SPI  store\n",
            "0   Darshan  8.7      1\n",
            "1  Abhishek  9.2      2\n",
            "2      Shiv  8.6      3\n",
            "3     Harsh  7.8      3\n",
            "4      Neel  7.6      2\n",
            "After the sampling\n",
            "**************************************************\n",
            "       Name  SPI  store\n",
            "4      Neel  7.6      2\n",
            "2      Shiv  8.6      3\n",
            "4      Neel  7.6      2\n",
            "2      Shiv  8.6      3\n",
            "0   Darshan  8.7      1\n",
            "4      Neel  7.6      2\n",
            "4      Neel  7.6      2\n",
            "1  Abhishek  9.2      2\n",
            "4      Neel  7.6      2\n",
            "1  Abhishek  9.2      2\n",
            "3     Harsh  7.8      3\n",
            "0   Darshan  8.7      1\n",
            "3     Harsh  7.8      3\n",
            "4      Neel  7.6      2\n",
            "3     Harsh  7.8      3\n"
          ]
        }
      ]
    },
    {
      "cell_type": "markdown",
      "source": [
        "# Section 2: KNN Algorithm "
      ],
      "metadata": {
        "id": "cNcnUH01CS2b"
      }
    },
    {
      "cell_type": "markdown",
      "source": [
        "Implement kNN Algorithm using SciKit- Learn Library for the Data set - Wine data set. Find\n",
        "accuracy and display confusion matrix"
      ],
      "metadata": {
        "id": "X9dXWcAdCYic"
      }
    },
    {
      "cell_type": "code",
      "source": [
        "#implementing the KNN algorithm using the wine dataset which is already in cleaned format\n",
        "\n",
        "#importing the  libraries\n",
        "from sklearn.datasets import load_wine\n",
        "from sklearn.model_selection import train_test_split\n",
        "from sklearn.neighbors import KNeighborsClassifier\n",
        "\n",
        "#loading the dataset\n",
        "wine_data = load_wine()\n",
        "\n",
        "#describing the dataset\n",
        "print(wine_data.DESCR)\n",
        "\n",
        "print(\"-\"*100)\n",
        "#feature(input) and target(output) variables \n",
        "print(\"Feature:\",wine_data.feature_names) \n",
        "print(\"-\"*100) \n",
        "print(\"Target:\",wine_data.target_names)  \n",
        "\n",
        "# Create feature and target arrays\n",
        "X = wine_data.data  \n",
        "Y = wine_data.target \n",
        "\n",
        "print(X)\n",
        "print(\"-\"*100)\n",
        "print(Y)"
      ],
      "metadata": {
        "colab": {
          "base_uri": "https://localhost:8080/"
        },
        "id": "efZ5mwoPCchV",
        "outputId": "d52161aa-8535-470d-9f44-4f759c66a58e"
      },
      "execution_count": 11,
      "outputs": [
        {
          "output_type": "stream",
          "name": "stdout",
          "text": [
            ".. _wine_dataset:\n",
            "\n",
            "Wine recognition dataset\n",
            "------------------------\n",
            "\n",
            "**Data Set Characteristics:**\n",
            "\n",
            "    :Number of Instances: 178 (50 in each of three classes)\n",
            "    :Number of Attributes: 13 numeric, predictive attributes and the class\n",
            "    :Attribute Information:\n",
            " \t\t- Alcohol\n",
            " \t\t- Malic acid\n",
            " \t\t- Ash\n",
            "\t\t- Alcalinity of ash  \n",
            " \t\t- Magnesium\n",
            "\t\t- Total phenols\n",
            " \t\t- Flavanoids\n",
            " \t\t- Nonflavanoid phenols\n",
            " \t\t- Proanthocyanins\n",
            "\t\t- Color intensity\n",
            " \t\t- Hue\n",
            " \t\t- OD280/OD315 of diluted wines\n",
            " \t\t- Proline\n",
            "\n",
            "    - class:\n",
            "            - class_0\n",
            "            - class_1\n",
            "            - class_2\n",
            "\t\t\n",
            "    :Summary Statistics:\n",
            "    \n",
            "    ============================= ==== ===== ======= =====\n",
            "                                   Min   Max   Mean     SD\n",
            "    ============================= ==== ===== ======= =====\n",
            "    Alcohol:                      11.0  14.8    13.0   0.8\n",
            "    Malic Acid:                   0.74  5.80    2.34  1.12\n",
            "    Ash:                          1.36  3.23    2.36  0.27\n",
            "    Alcalinity of Ash:            10.6  30.0    19.5   3.3\n",
            "    Magnesium:                    70.0 162.0    99.7  14.3\n",
            "    Total Phenols:                0.98  3.88    2.29  0.63\n",
            "    Flavanoids:                   0.34  5.08    2.03  1.00\n",
            "    Nonflavanoid Phenols:         0.13  0.66    0.36  0.12\n",
            "    Proanthocyanins:              0.41  3.58    1.59  0.57\n",
            "    Colour Intensity:              1.3  13.0     5.1   2.3\n",
            "    Hue:                          0.48  1.71    0.96  0.23\n",
            "    OD280/OD315 of diluted wines: 1.27  4.00    2.61  0.71\n",
            "    Proline:                       278  1680     746   315\n",
            "    ============================= ==== ===== ======= =====\n",
            "\n",
            "    :Missing Attribute Values: None\n",
            "    :Class Distribution: class_0 (59), class_1 (71), class_2 (48)\n",
            "    :Creator: R.A. Fisher\n",
            "    :Donor: Michael Marshall (MARSHALL%PLU@io.arc.nasa.gov)\n",
            "    :Date: July, 1988\n",
            "\n",
            "This is a copy of UCI ML Wine recognition datasets.\n",
            "https://archive.ics.uci.edu/ml/machine-learning-databases/wine/wine.data\n",
            "\n",
            "The data is the results of a chemical analysis of wines grown in the same\n",
            "region in Italy by three different cultivators. There are thirteen different\n",
            "measurements taken for different constituents found in the three types of\n",
            "wine.\n",
            "\n",
            "Original Owners: \n",
            "\n",
            "Forina, M. et al, PARVUS - \n",
            "An Extendible Package for Data Exploration, Classification and Correlation. \n",
            "Institute of Pharmaceutical and Food Analysis and Technologies,\n",
            "Via Brigata Salerno, 16147 Genoa, Italy.\n",
            "\n",
            "Citation:\n",
            "\n",
            "Lichman, M. (2013). UCI Machine Learning Repository\n",
            "[https://archive.ics.uci.edu/ml]. Irvine, CA: University of California,\n",
            "School of Information and Computer Science. \n",
            "\n",
            ".. topic:: References\n",
            "\n",
            "  (1) S. Aeberhard, D. Coomans and O. de Vel, \n",
            "  Comparison of Classifiers in High Dimensional Settings, \n",
            "  Tech. Rep. no. 92-02, (1992), Dept. of Computer Science and Dept. of  \n",
            "  Mathematics and Statistics, James Cook University of North Queensland. \n",
            "  (Also submitted to Technometrics). \n",
            "\n",
            "  The data was used with many others for comparing various \n",
            "  classifiers. The classes are separable, though only RDA \n",
            "  has achieved 100% correct classification. \n",
            "  (RDA : 100%, QDA 99.4%, LDA 98.9%, 1NN 96.1% (z-transformed data)) \n",
            "  (All results using the leave-one-out technique) \n",
            "\n",
            "  (2) S. Aeberhard, D. Coomans and O. de Vel, \n",
            "  \"THE CLASSIFICATION PERFORMANCE OF RDA\" \n",
            "  Tech. Rep. no. 92-01, (1992), Dept. of Computer Science and Dept. of \n",
            "  Mathematics and Statistics, James Cook University of North Queensland. \n",
            "  (Also submitted to Journal of Chemometrics).\n",
            "\n",
            "----------------------------------------------------------------------------------------------------\n",
            "Feature: ['alcohol', 'malic_acid', 'ash', 'alcalinity_of_ash', 'magnesium', 'total_phenols', 'flavanoids', 'nonflavanoid_phenols', 'proanthocyanins', 'color_intensity', 'hue', 'od280/od315_of_diluted_wines', 'proline']\n",
            "----------------------------------------------------------------------------------------------------\n",
            "Target: ['class_0' 'class_1' 'class_2']\n",
            "[[1.423e+01 1.710e+00 2.430e+00 ... 1.040e+00 3.920e+00 1.065e+03]\n",
            " [1.320e+01 1.780e+00 2.140e+00 ... 1.050e+00 3.400e+00 1.050e+03]\n",
            " [1.316e+01 2.360e+00 2.670e+00 ... 1.030e+00 3.170e+00 1.185e+03]\n",
            " ...\n",
            " [1.327e+01 4.280e+00 2.260e+00 ... 5.900e-01 1.560e+00 8.350e+02]\n",
            " [1.317e+01 2.590e+00 2.370e+00 ... 6.000e-01 1.620e+00 8.400e+02]\n",
            " [1.413e+01 4.100e+00 2.740e+00 ... 6.100e-01 1.600e+00 5.600e+02]]\n",
            "----------------------------------------------------------------------------------------------------\n",
            "[0 0 0 0 0 0 0 0 0 0 0 0 0 0 0 0 0 0 0 0 0 0 0 0 0 0 0 0 0 0 0 0 0 0 0 0 0\n",
            " 0 0 0 0 0 0 0 0 0 0 0 0 0 0 0 0 0 0 0 0 0 0 1 1 1 1 1 1 1 1 1 1 1 1 1 1 1\n",
            " 1 1 1 1 1 1 1 1 1 1 1 1 1 1 1 1 1 1 1 1 1 1 1 1 1 1 1 1 1 1 1 1 1 1 1 1 1\n",
            " 1 1 1 1 1 1 1 1 1 1 1 1 1 1 1 1 1 1 1 2 2 2 2 2 2 2 2 2 2 2 2 2 2 2 2 2 2\n",
            " 2 2 2 2 2 2 2 2 2 2 2 2 2 2 2 2 2 2 2 2 2 2 2 2 2 2 2 2 2 2]\n"
          ]
        }
      ]
    },
    {
      "cell_type": "code",
      "source": [
        "#importing the library for metrics and plotting\n",
        "from sklearn import metrics\n",
        "import matplotlib.pyplot as plt\n",
        "\n",
        "#creating a list to store the accuracy for various value of i\n",
        "accuracy = []\n",
        "n_neighbors=range(1,15)\n",
        "\n",
        "for i in n_neighbors:\n",
        "  knn = KNeighborsClassifier(n_neighbors=i)\n",
        "  \n",
        "  X_train, X_test, Y_train, Y_test = train_test_split(X, Y, test_size = 0.2, random_state=42)\n",
        "  \n",
        "  knn.fit(X_train, Y_train) \n",
        "  Y_pred=knn.predict(X_test)\n",
        "  acc= metrics.accuracy_score(Y_test, Y_pred)\n",
        "  accuracy.append(acc)\n",
        "  print(\"i=\",i , \"Accuracy:\",acc)\n",
        "\n",
        "plt.plot(n_neighbors,accuracy)\n"
      ],
      "metadata": {
        "colab": {
          "base_uri": "https://localhost:8080/",
          "height": 517
        },
        "id": "OurXdWYEGQBa",
        "outputId": "0bac30f7-7ee6-4dee-db1c-b52183281ca7"
      },
      "execution_count": 17,
      "outputs": [
        {
          "output_type": "stream",
          "name": "stdout",
          "text": [
            "i= 1 Accuracy: 0.7777777777777778\n",
            "i= 2 Accuracy: 0.7222222222222222\n",
            "i= 3 Accuracy: 0.8055555555555556\n",
            "i= 4 Accuracy: 0.75\n",
            "i= 5 Accuracy: 0.7222222222222222\n",
            "i= 6 Accuracy: 0.7222222222222222\n",
            "i= 7 Accuracy: 0.6944444444444444\n",
            "i= 8 Accuracy: 0.7222222222222222\n",
            "i= 9 Accuracy: 0.7222222222222222\n",
            "i= 10 Accuracy: 0.7222222222222222\n",
            "i= 11 Accuracy: 0.75\n",
            "i= 12 Accuracy: 0.7222222222222222\n",
            "i= 13 Accuracy: 0.7222222222222222\n",
            "i= 14 Accuracy: 0.7222222222222222\n"
          ]
        },
        {
          "output_type": "execute_result",
          "data": {
            "text/plain": [
              "[<matplotlib.lines.Line2D at 0x7f2ea69e5c10>]"
            ]
          },
          "metadata": {},
          "execution_count": 17
        },
        {
          "output_type": "display_data",
          "data": {
            "text/plain": [
              "<Figure size 432x288 with 1 Axes>"
            ],
            "image/png": "[encoded data removed]"
          },
          "metadata": {
            "needs_background": "light"
          }
        }
      ]
    },
    {
      "cell_type": "markdown",
      "source": [
        "Here we can say that we are gaining most accuracy when we are taking the value of k is 3 so we will find the confusion matrix for k=3."
      ],
      "metadata": {
        "id": "qOZfVsO2cpXH"
      }
    },
    {
      "cell_type": "code",
      "source": [
        "#here we are creating the confusion matrix for value of i = 4\n",
        "from sklearn import metrics\n",
        "\n",
        "knn = KNeighborsClassifier(n_neighbors=4)\n",
        "X_train, X_test, Y_train, Y_test = train_test_split(X, Y, test_size = 0.2, random_state=42)\n",
        "\n",
        "knn.fit(X_train, Y_train) \n",
        "Y_pred=knn.predict(X_test)\n",
        "acc= metrics.accuracy_score(Y_test, Y_pred)\n",
        "\n",
        "metrics.confusion_matrix(Y_test, Y_pred)\n"
      ],
      "metadata": {
        "colab": {
          "base_uri": "https://localhost:8080/"
        },
        "id": "yci17VwXc2HL",
        "outputId": "92312c96-d037-4696-df3b-96deb0cef438"
      },
      "execution_count": 18,
      "outputs": [
        {
          "output_type": "execute_result",
          "data": {
            "text/plain": [
              "array([[12,  0,  2],\n",
              "       [ 0, 11,  3],\n",
              "       [ 1,  3,  4]])"
            ]
          },
          "metadata": {},
          "execution_count": 18
        }
      ]
    },
    {
      "cell_type": "markdown",
      "source": [
        "# Section 3: Desicion Tree Classifier"
      ],
      "metadata": {
        "id": "G4L2fococHU9"
      }
    },
    {
      "cell_type": "markdown",
      "source": [
        "Implement Decision Tree Classifier for classification of Iris dataset\n",
        "\n",
        "a. Load the data set\n",
        "\n",
        "b. Split the data set (70:30) to train and test sets\n",
        "\n",
        "c. Train a Decision Tree using train set\n",
        "\n",
        "d. Test the model using test set.\n",
        "\n",
        "e. Find accuracy and confusion Matrix"
      ],
      "metadata": {
        "id": "JCpQpDKccNUQ"
      }
    },
    {
      "cell_type": "code",
      "source": [
        "#importing all the required libraries\n",
        "from sklearn.datasets import load_iris\n",
        "from sklearn.tree import DecisionTreeClassifier\n",
        "from sklearn.model_selection import train_test_split\n",
        "from sklearn import tree\n",
        "from sklearn.metrics import classification_report, confusion_matrix\n",
        "from sklearn import metrics\n",
        "import matplotlib.pyplot as plt\n",
        "import pandas as pd\n",
        "\n",
        "#loading the dataset and converting it into the dataframe\n",
        "iris_data = load_iris()\n",
        "df = pd.DataFrame(iris_data.data, columns=iris_data.feature_names)\n",
        "df['target'] = iris_data.target\n",
        "\n",
        "df"
      ],
      "metadata": {
        "colab": {
          "base_uri": "https://localhost:8080/",
          "height": 417
        },
        "id": "FeC2ptU9cdZ_",
        "outputId": "3c3b2345-4ecd-475e-ce69-0c7c7a23ba74"
      },
      "execution_count": 31,
      "outputs": [
        {
          "output_type": "execute_result",
          "data": {
            "text/plain": [
              "     sepal length (cm)  sepal width (cm)  petal length (cm)  petal width (cm)  \\\n",
              "0                  5.1               3.5                1.4               0.2   \n",
              "1                  4.9               3.0                1.4               0.2   \n",
              "2                  4.7               3.2                1.3               0.2   \n",
              "3                  4.6               3.1                1.5               0.2   \n",
              "4                  5.0               3.6                1.4               0.2   \n",
              "..                 ...               ...                ...               ...   \n",
              "145                6.7               3.0                5.2               2.3   \n",
              "146                6.3               2.5                5.0               1.9   \n",
              "147                6.5               3.0                5.2               2.0   \n",
              "148                6.2               3.4                5.4               2.3   \n",
              "149                5.9               3.0                5.1               1.8   \n",
              "\n",
              "     target  \n",
              "0         0  \n",
              "1         0  \n",
              "2         0  \n",
              "3         0  \n",
              "4         0  \n",
              "..      ...  \n",
              "145       2  \n",
              "146       2  \n",
              "147       2  \n",
              "148       2  \n",
              "149       2  \n",
              "\n",
              "[150 rows x 5 columns]"
            ],
            "text/html": [
              "\n",
              "  <div id=\"df-501214f0-f3c2-4a65-88b9-cf1fa0fbf840\">\n",
              "    <div class=\"colab-df-container\">\n",
              "      <div>\n",
              "<style scoped>\n",
              "    .dataframe tbody tr th:only-of-type {\n",
              "        vertical-align: middle;\n",
              "    }\n",
              "\n",
              "    .dataframe tbody tr th {\n",
              "        vertical-align: top;\n",
              "    }\n",
              "\n",
              "    .dataframe thead th {\n",
              "        text-align: right;\n",
              "    }\n",
              "</style>\n",
              "<table border=\"1\" class=\"dataframe\">\n",
              "  <thead>\n",
              "    <tr style=\"text-align: right;\">\n",
              "      <th></th>\n",
              "      <th>sepal length (cm)</th>\n",
              "      <th>sepal width (cm)</th>\n",
              "      <th>petal length (cm)</th>\n",
              "      <th>petal width (cm)</th>\n",
              "      <th>target</th>\n",
              "    </tr>\n",
              "  </thead>\n",
              "  <tbody>\n",
              "    <tr>\n",
              "      <th>0</th>\n",
              "      <td>5.1</td>\n",
              "      <td>3.5</td>\n",
              "      <td>1.4</td>\n",
              "      <td>0.2</td>\n",
              "      <td>0</td>\n",
              "    </tr>\n",
              "    <tr>\n",
              "      <th>1</th>\n",
              "      <td>4.9</td>\n",
              "      <td>3.0</td>\n",
              "      <td>1.4</td>\n",
              "      <td>0.2</td>\n",
              "      <td>0</td>\n",
              "    </tr>\n",
              "    <tr>\n",
              "      <th>2</th>\n",
              "      <td>4.7</td>\n",
              "      <td>3.2</td>\n",
              "      <td>1.3</td>\n",
              "      <td>0.2</td>\n",
              "      <td>0</td>\n",
              "    </tr>\n",
              "    <tr>\n",
              "      <th>3</th>\n",
              "      <td>4.6</td>\n",
              "      <td>3.1</td>\n",
              "      <td>1.5</td>\n",
              "      <td>0.2</td>\n",
              "      <td>0</td>\n",
              "    </tr>\n",
              "    <tr>\n",
              "      <th>4</th>\n",
              "      <td>5.0</td>\n",
              "      <td>3.6</td>\n",
              "      <td>1.4</td>\n",
              "      <td>0.2</td>\n",
              "      <td>0</td>\n",
              "    </tr>\n",
              "    <tr>\n",
              "      <th>...</th>\n",
              "      <td>...</td>\n",
              "      <td>...</td>\n",
              "      <td>...</td>\n",
              "      <td>...</td>\n",
              "      <td>...</td>\n",
              "    </tr>\n",
              "    <tr>\n",
              "      <th>145</th>\n",
              "      <td>6.7</td>\n",
              "      <td>3.0</td>\n",
              "      <td>5.2</td>\n",
              "      <td>2.3</td>\n",
              "      <td>2</td>\n",
              "    </tr>\n",
              "    <tr>\n",
              "      <th>146</th>\n",
              "      <td>6.3</td>\n",
              "      <td>2.5</td>\n",
              "      <td>5.0</td>\n",
              "      <td>1.9</td>\n",
              "      <td>2</td>\n",
              "    </tr>\n",
              "    <tr>\n",
              "      <th>147</th>\n",
              "      <td>6.5</td>\n",
              "      <td>3.0</td>\n",
              "      <td>5.2</td>\n",
              "      <td>2.0</td>\n",
              "      <td>2</td>\n",
              "    </tr>\n",
              "    <tr>\n",
              "      <th>148</th>\n",
              "      <td>6.2</td>\n",
              "      <td>3.4</td>\n",
              "      <td>5.4</td>\n",
              "      <td>2.3</td>\n",
              "      <td>2</td>\n",
              "    </tr>\n",
              "    <tr>\n",
              "      <th>149</th>\n",
              "      <td>5.9</td>\n",
              "      <td>3.0</td>\n",
              "      <td>5.1</td>\n",
              "      <td>1.8</td>\n",
              "      <td>2</td>\n",
              "    </tr>\n",
              "  </tbody>\n",
              "</table>\n",
              "<p>150 rows × 5 columns</p>\n",
              "</div>\n",
              "      <button class=\"colab-df-convert\" onclick=\"convertToInteractive('df-501214f0-f3c2-4a65-88b9-cf1fa0fbf840')\"\n",
              "              title=\"Convert this dataframe to an interactive table.\"\n",
              "              style=\"display:none;\">\n",
              "        \n",
              "  <svg xmlns=\"http://www.w3.org/2000/svg\" height=\"24px\"viewBox=\"0 0 24 24\"\n",
              "       width=\"24px\">\n",
              "    <path d=\"M0 0h24v24H0V0z\" fill=\"none\"/>\n",
              "    <path d=\"M18.56 5.44l.94 2.06.94-2.06 2.06-.94-2.06-.94-.94-2.06-.94 2.06-2.06.94zm-11 1L8.5 8.5l.94-2.06 2.06-.94-2.06-.94L8.5 2.5l-.94 2.06-2.06.94zm10 10l.94 2.06.94-2.06 2.06-.94-2.06-.94-.94-2.06-.94 2.06-2.06.94z\"/><path d=\"M17.41 7.96l-1.37-1.37c-.4-.4-.92-.59-1.43-.59-.52 0-1.04.2-1.43.59L10.3 9.45l-7.72 7.72c-.78.78-.78 2.05 0 2.83L4 21.41c.39.39.9.59 1.41.59.51 0 1.02-.2 1.41-.59l7.78-7.78 2.81-2.81c.8-.78.8-2.07 0-2.86zM5.41 20L4 18.59l7.72-7.72 1.47 1.35L5.41 20z\"/>\n",
              "  </svg>\n",
              "      </button>\n",
              "      \n",
              "  <style>\n",
              "    .colab-df-container {\n",
              "      display:flex;\n",
              "      flex-wrap:wrap;\n",
              "      gap: 12px;\n",
              "    }\n",
              "\n",
              "    .colab-df-convert {\n",
              "      background-color: #E8F0FE;\n",
              "      border: none;\n",
              "      border-radius: 50%;\n",
              "      cursor: pointer;\n",
              "      display: none;\n",
              "      fill: #1967D2;\n",
              "      height: 32px;\n",
              "      padding: 0 0 0 0;\n",
              "      width: 32px;\n",
              "    }\n",
              "\n",
              "    .colab-df-convert:hover {\n",
              "      background-color: #E2EBFA;\n",
              "      box-shadow: 0px 1px 2px rgba(60, 64, 67, 0.3), 0px 1px 3px 1px rgba(60, 64, 67, 0.15);\n",
              "      fill: #174EA6;\n",
              "    }\n",
              "\n",
              "    [theme=dark] .colab-df-convert {\n",
              "      background-color: #3B4455;\n",
              "      fill: #D2E3FC;\n",
              "    }\n",
              "\n",
              "    [theme=dark] .colab-df-convert:hover {\n",
              "      background-color: #434B5C;\n",
              "      box-shadow: 0px 1px 3px 1px rgba(0, 0, 0, 0.15);\n",
              "      filter: drop-shadow(0px 1px 2px rgba(0, 0, 0, 0.3));\n",
              "      fill: #FFFFFF;\n",
              "    }\n",
              "  </style>\n",
              "\n",
              "      <script>\n",
              "        const buttonEl =\n",
              "          document.querySelector('#df-501214f0-f3c2-4a65-88b9-cf1fa0fbf840 button.colab-df-convert');\n",
              "        buttonEl.style.display =\n",
              "          google.colab.kernel.accessAllowed ? 'block' : 'none';\n",
              "\n",
              "        async function convertToInteractive(key) {\n",
              "          const element = document.querySelector('#df-501214f0-f3c2-4a65-88b9-cf1fa0fbf840');\n",
              "          const dataTable =\n",
              "            await google.colab.kernel.invokeFunction('convertToInteractive',\n",
              "                                                     [key], {});\n",
              "          if (!dataTable) return;\n",
              "\n",
              "          const docLinkHtml = 'Like what you see? Visit the ' +\n",
              "            '<a target=\"_blank\" href=https://colab.research.google.com/notebooks/data_table.ipynb>data table notebook</a>'\n",
              "            + ' to learn more about interactive tables.';\n",
              "          element.innerHTML = '';\n",
              "          dataTable['output_type'] = 'display_data';\n",
              "          await google.colab.output.renderOutput(dataTable, element);\n",
              "          const docLink = document.createElement('div');\n",
              "          docLink.innerHTML = docLinkHtml;\n",
              "          element.appendChild(docLink);\n",
              "        }\n",
              "      </script>\n",
              "    </div>\n",
              "  </div>\n",
              "  "
            ]
          },
          "metadata": {},
          "execution_count": 31
        }
      ]
    },
    {
      "cell_type": "code",
      "source": [
        "X_train, X_test, Y_train, Y_test = train_test_split(df[iris_data.feature_names], df['target'], test_size = 0.3,random_state=0)\n",
        "\n",
        "#length of training and testing data\n",
        "print(\"Training data: \",len(X_train))\n",
        "print(\"Testing data: \",len(X_test))\n",
        "print(\"-\"*100)\n",
        "#given criteria is entropy for desicion tree classifier\n",
        "des_clf = DecisionTreeClassifier(criterion='entropy')\n",
        "\n",
        "#training the model\n",
        "des_clf.fit(X_train,Y_train)\n",
        "\n",
        "#for testing purpose\n",
        "print(X_test)\n",
        "print(\"-\"*100)\n",
        "\n",
        "#prediction purpose\n",
        "Y_pred = des_clf.predict(X_test)\n",
        "print(Y_pred)\n"
      ],
      "metadata": {
        "colab": {
          "base_uri": "https://localhost:8080/"
        },
        "id": "8u84NxM0eqqF",
        "outputId": "bbc46e38-bf10-4011-8f29-eda39e57625b"
      },
      "execution_count": 28,
      "outputs": [
        {
          "output_type": "stream",
          "name": "stdout",
          "text": [
            "Training data:  105\n",
            "Testing data:  45\n",
            "----------------------------------------------------------------------------------------------------\n",
            "     sepal length (cm)  sepal width (cm)  petal length (cm)  petal width (cm)\n",
            "114                5.8               2.8                5.1               2.4\n",
            "62                 6.0               2.2                4.0               1.0\n",
            "33                 5.5               4.2                1.4               0.2\n",
            "107                7.3               2.9                6.3               1.8\n",
            "7                  5.0               3.4                1.5               0.2\n",
            "100                6.3               3.3                6.0               2.5\n",
            "40                 5.0               3.5                1.3               0.3\n",
            "86                 6.7               3.1                4.7               1.5\n",
            "76                 6.8               2.8                4.8               1.4\n",
            "71                 6.1               2.8                4.0               1.3\n",
            "134                6.1               2.6                5.6               1.4\n",
            "51                 6.4               3.2                4.5               1.5\n",
            "73                 6.1               2.8                4.7               1.2\n",
            "54                 6.5               2.8                4.6               1.5\n",
            "63                 6.1               2.9                4.7               1.4\n",
            "37                 4.9               3.6                1.4               0.1\n",
            "78                 6.0               2.9                4.5               1.5\n",
            "90                 5.5               2.6                4.4               1.2\n",
            "45                 4.8               3.0                1.4               0.3\n",
            "16                 5.4               3.9                1.3               0.4\n",
            "121                5.6               2.8                4.9               2.0\n",
            "66                 5.6               3.0                4.5               1.5\n",
            "24                 4.8               3.4                1.9               0.2\n",
            "8                  4.4               2.9                1.4               0.2\n",
            "126                6.2               2.8                4.8               1.8\n",
            "22                 4.6               3.6                1.0               0.2\n",
            "44                 5.1               3.8                1.9               0.4\n",
            "97                 6.2               2.9                4.3               1.3\n",
            "93                 5.0               2.3                3.3               1.0\n",
            "26                 5.0               3.4                1.6               0.4\n",
            "137                6.4               3.1                5.5               1.8\n",
            "84                 5.4               3.0                4.5               1.5\n",
            "27                 5.2               3.5                1.5               0.2\n",
            "127                6.1               3.0                4.9               1.8\n",
            "132                6.4               2.8                5.6               2.2\n",
            "59                 5.2               2.7                3.9               1.4\n",
            "18                 5.7               3.8                1.7               0.3\n",
            "83                 6.0               2.7                5.1               1.6\n",
            "61                 5.9               3.0                4.2               1.5\n",
            "92                 5.8               2.6                4.0               1.2\n",
            "112                6.8               3.0                5.5               2.1\n",
            "2                  4.7               3.2                1.3               0.2\n",
            "141                6.9               3.1                5.1               2.3\n",
            "43                 5.0               3.5                1.6               0.6\n",
            "10                 5.4               3.7                1.5               0.2\n",
            "----------------------------------------------------------------------------------------------------\n",
            "[2 1 0 2 0 2 0 1 1 1 2 1 1 1 1 0 1 1 0 0 2 1 0 0 2 0 0 1 1 0 2 1 0 2 2 1 0\n",
            " 2 1 1 2 0 2 0 0]\n"
          ]
        }
      ]
    },
    {
      "cell_type": "code",
      "source": [
        "#for plotting the whole desicion tree\n",
        "figure_tree = plt.figure(figsize=(15,10))\n",
        "tree.plot_tree(des_clf, \n",
        "                   feature_names=iris_data.feature_names,  \n",
        "                   class_names=iris_data.target_names,\n",
        "                   filled=True)"
      ],
      "metadata": {
        "colab": {
          "base_uri": "https://localhost:8080/",
          "height": 794
        },
        "id": "MI7GBhXsg1IG",
        "outputId": "da44344a-f494-4baf-c1ee-9b70c4d1e14c"
      },
      "execution_count": 30,
      "outputs": [
        {
          "output_type": "execute_result",
          "data": {
            "text/plain": [
              "[Text(0.4, 0.9, 'petal width (cm) <= 0.75\\nentropy = 1.58\\nsamples = 105\\nvalue = [34, 32, 39]\\nclass = virginica'),\n",
              " Text(0.3, 0.7, 'entropy = 0.0\\nsamples = 34\\nvalue = [34, 0, 0]\\nclass = setosa'),\n",
              " Text(0.5, 0.7, 'petal length (cm) <= 4.95\\nentropy = 0.993\\nsamples = 71\\nvalue = [0, 32, 39]\\nclass = virginica'),\n",
              " Text(0.2, 0.5, 'petal width (cm) <= 1.65\\nentropy = 0.431\\nsamples = 34\\nvalue = [0, 31, 3]\\nclass = versicolor'),\n",
              " Text(0.1, 0.3, 'entropy = 0.0\\nsamples = 30\\nvalue = [0, 30, 0]\\nclass = versicolor'),\n",
              " Text(0.3, 0.3, 'sepal width (cm) <= 3.1\\nentropy = 0.811\\nsamples = 4\\nvalue = [0, 1, 3]\\nclass = virginica'),\n",
              " Text(0.2, 0.1, 'entropy = 0.0\\nsamples = 3\\nvalue = [0, 0, 3]\\nclass = virginica'),\n",
              " Text(0.4, 0.1, 'entropy = 0.0\\nsamples = 1\\nvalue = [0, 1, 0]\\nclass = versicolor'),\n",
              " Text(0.8, 0.5, 'petal width (cm) <= 1.75\\nentropy = 0.179\\nsamples = 37\\nvalue = [0, 1, 36]\\nclass = virginica'),\n",
              " Text(0.7, 0.3, 'petal width (cm) <= 1.65\\nentropy = 0.811\\nsamples = 4\\nvalue = [0, 1, 3]\\nclass = virginica'),\n",
              " Text(0.6, 0.1, 'entropy = 0.0\\nsamples = 3\\nvalue = [0, 0, 3]\\nclass = virginica'),\n",
              " Text(0.8, 0.1, 'entropy = 0.0\\nsamples = 1\\nvalue = [0, 1, 0]\\nclass = versicolor'),\n",
              " Text(0.9, 0.3, 'entropy = 0.0\\nsamples = 33\\nvalue = [0, 0, 33]\\nclass = virginica')]"
            ]
          },
          "metadata": {},
          "execution_count": 30
        },
        {
          "output_type": "display_data",
          "data": {
            "text/plain": [
              "<Figure size 1080x720 with 1 Axes>"
            ],
            "image/png": "[encoded data removed]"
          },
          "metadata": {
            "needs_background": "light"
          }
        }
      ]
    },
    {
      "cell_type": "code",
      "source": [
        "#accuracy and confusion matrix showing\n",
        "acc= metrics.accuracy_score(Y_test, Y_pred)\n",
        "print(\"Accuracy:\",acc)\n",
        "print(\"-\"*100)\n",
        "print(confusion_matrix(Y_test, Y_pred))\n",
        "print(\"-\"*100)\n",
        "print(classification_report(Y_test, Y_pred))\n"
      ],
      "metadata": {
        "colab": {
          "base_uri": "https://localhost:8080/"
        },
        "id": "igiYbqGihwyv",
        "outputId": "1264ff18-1a00-4cb6-cd56-ce5b10bb8cc0"
      },
      "execution_count": 32,
      "outputs": [
        {
          "output_type": "stream",
          "name": "stdout",
          "text": [
            "Accuracy: 0.9777777777777777\n",
            "----------------------------------------------------------------------------------------------------\n",
            "[[16  0  0]\n",
            " [ 0 17  1]\n",
            " [ 0  0 11]]\n",
            "----------------------------------------------------------------------------------------------------\n",
            "              precision    recall  f1-score   support\n",
            "\n",
            "           0       1.00      1.00      1.00        16\n",
            "           1       1.00      0.94      0.97        18\n",
            "           2       0.92      1.00      0.96        11\n",
            "\n",
            "    accuracy                           0.98        45\n",
            "   macro avg       0.97      0.98      0.98        45\n",
            "weighted avg       0.98      0.98      0.98        45\n",
            "\n"
          ]
        }
      ]
    },
    {
      "cell_type": "markdown",
      "source": [
        "# Section 4: Support Vector Machine"
      ],
      "metadata": {
        "id": "dbk_HUpOcVbz"
      }
    },
    {
      "cell_type": "markdown",
      "source": [
        "Implement SVM Classification Algorithm for the DataSet Breast Cancer"
      ],
      "metadata": {
        "id": "LjqtcMdEcanO"
      }
    },
    {
      "cell_type": "code",
      "source": [
        "#importing the libraries\n",
        "from sklearn import svm\n",
        "from sklearn import datasets\n",
        "from sklearn.model_selection import train_test_split\n",
        "import matplotlib.pyplot as plt\n",
        "from sklearn import metrics\n",
        "\n",
        "#loading the dataset\n",
        "cancer_data = datasets.load_breast_cancer()\n",
        "print(\"Target(output) Labels: \", cancer_data.target_names)\n",
        "print(\"-\"*100)\n",
        "print(\"Feature(input) Labels: \", cancer_data.feature_names)\n",
        "print(\"-\"*100)\n",
        "\n",
        "#splitting the data and creating the model for prediction\n",
        "X_train, X_test, y_train, y_test = train_test_split(cancer_data.data, cancer_data.target, test_size=0.3)\n",
        "classifier = svm.SVC(kernel='linear')\n",
        "classifier.fit(X_train, y_train)\n",
        "y_pred = classifier.predict(X_test)\n",
        "\n",
        "#accuracy and displaying the confusion matrix\n",
        "print(\"Accuracy:\",metrics.accuracy_score(y_test, y_pred))\n",
        "print(\"-\"*100)\n",
        "\n",
        "#Get support vector indices\n",
        "support_vector_indices = classifier.support_\n",
        "print(support_vector_indices)\n"
      ],
      "metadata": {
        "colab": {
          "base_uri": "https://localhost:8080/"
        },
        "id": "3L-PvxCfiJ4W",
        "outputId": "0f35e1f9-fc1b-40c3-bd84-bc5aa7fd671d"
      },
      "execution_count": 36,
      "outputs": [
        {
          "output_type": "stream",
          "name": "stdout",
          "text": [
            "Target(output) Labels:  ['malignant' 'benign']\n",
            "----------------------------------------------------------------------------------------------------\n",
            "Feature(input) Labels:  ['mean radius' 'mean texture' 'mean perimeter' 'mean area'\n",
            " 'mean smoothness' 'mean compactness' 'mean concavity'\n",
            " 'mean concave points' 'mean symmetry' 'mean fractal dimension'\n",
            " 'radius error' 'texture error' 'perimeter error' 'area error'\n",
            " 'smoothness error' 'compactness error' 'concavity error'\n",
            " 'concave points error' 'symmetry error' 'fractal dimension error'\n",
            " 'worst radius' 'worst texture' 'worst perimeter' 'worst area'\n",
            " 'worst smoothness' 'worst compactness' 'worst concavity'\n",
            " 'worst concave points' 'worst symmetry' 'worst fractal dimension']\n",
            "----------------------------------------------------------------------------------------------------\n",
            "Accuracy: 0.9064327485380117\n",
            "----------------------------------------------------------------------------------------------------\n",
            "[ 16  54  60  64  79 115 123 128 182 200 212 236 249 303 319 369   9  25\n",
            "  38 102 114 118 160 174 195 206 222 239 288 377 391]\n"
          ]
        }
      ]
    },
    {
      "cell_type": "code",
      "source": [
        "support_vectors = classifier.support_vectors_\n",
        "\n",
        "# Visualize support vectors\n",
        "plt.scatter(X_train[:,0], X_train[:,1],c=y_train, s=50, cmap='autumn')\n",
        "plt.scatter(support_vectors[:,0], support_vectors[:,1], color='blue')\n",
        "plt.title('Linearly separable data with support vectors')\n",
        "plt.xlabel('X1')\n",
        "plt.ylabel('X2')\n",
        "plt.show()"
      ],
      "metadata": {
        "colab": {
          "base_uri": "https://localhost:8080/",
          "height": 295
        },
        "id": "P20RNfVqj0hK",
        "outputId": "aff8dbe1-4633-49d7-8fc1-6deef6d8f470"
      },
      "execution_count": 37,
      "outputs": [
        {
          "output_type": "display_data",
          "data": {
            "text/plain": [
              "<Figure size 432x288 with 1 Axes>"
            ],
            "image/png": "[encoded data removed]"
          },
          "metadata": {
            "needs_background": "light"
          }
        }
      ]
    }
  ]
}