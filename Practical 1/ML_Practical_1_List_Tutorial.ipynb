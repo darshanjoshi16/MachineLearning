{
  "nbformat": 4,
  "nbformat_minor": 0,
  "metadata": {
    "colab": {
      "name": "ML_Practical_1_List_Tutorial.ipynb",
      "provenance": []
    },
    "kernelspec": {
      "name": "python3",
      "display_name": "Python 3"
    },
    "language_info": {
      "name": "python"
    }
  },
  "cells": [
    {
      "cell_type": "markdown",
      "source": [
        "# **List Tutorials**"
      ],
      "metadata": {
        "id": "XDdmFdSYpEXV"
      }
    },
    {
      "cell_type": "markdown",
      "source": [
        "**1. What will be the output of the following code snippet?**"
      ],
      "metadata": {
        "id": "nmc7TlaopI4q"
      }
    },
    {
      "cell_type": "code",
      "source": [
        "import numpy as np\n",
        "a = [4,6,7,3,2]\n",
        "b = [x for x in a if x > 5]\n",
        "\n",
        "#it will include the elements of list 'a' into list 'b' which are greater than value 5\n",
        "print(b)"
      ],
      "metadata": {
        "colab": {
          "base_uri": "https://localhost:8080/"
        },
        "id": "JRAwVqOPpN3T",
        "outputId": "a43f61d6-3c3a-4e9d-ac81-8a00091c7dbf"
      },
      "execution_count": 1,
      "outputs": [
        {
          "output_type": "stream",
          "name": "stdout",
          "text": [
            "[6, 7]\n"
          ]
        }
      ]
    },
    {
      "cell_type": "markdown",
      "source": [
        "**Answer:** \n",
        "\n",
        "The given code snippet will assume the list 'a' as per the defined and it will run the loop for all the element in list 'a' and if the value at current iteration is greater than 5, it will append value into list 'b'."
      ],
      "metadata": {
        "id": "KAWz5veNqEXw"
      }
    },
    {
      "cell_type": "markdown",
      "source": [
        "**2. What will be the output of the following snippet?**"
      ],
      "metadata": {
        "id": "_Y3evu0-ppLD"
      }
    },
    {
      "cell_type": "code",
      "source": [
        "import numpy as np\n",
        "a = [4,6,7,3,2]\n",
        "c = []\n",
        "\n",
        "#it will do the iteration and check the condition and if it is true, the element is appended into the new list\n",
        "for x in a:\n",
        "  if x > 5:\n",
        "    c.append(x)\n",
        "print(c)  "
      ],
      "metadata": {
        "colab": {
          "base_uri": "https://localhost:8080/"
        },
        "id": "X1dXOVc9pxRF",
        "outputId": "81adaeec-04d3-4695-9fd8-b828f41455a2"
      },
      "execution_count": 2,
      "outputs": [
        {
          "output_type": "stream",
          "name": "stdout",
          "text": [
            "[6, 7]\n"
          ]
        }
      ]
    },
    {
      "cell_type": "markdown",
      "source": [
        "**Answer:** \n",
        "\n",
        "The given code snippet will assume the list 'a' as per the defined and it will create an empty list 'c' and  it will run loop iteration for the all the elements in 'a' and append value into the list 'c' if it satisfy the condition.\n",
        "\n",
        "Basically it performs same task as the code snippet in the first question."
      ],
      "metadata": {
        "id": "NW5kL30iqhP4"
      }
    },
    {
      "cell_type": "markdown",
      "source": [
        "3. **Consider the list 'a' as an input list. Create a new list 'd' such that it stores the square of element x in a , if x >= threshold value using list comprehension.Set the threshold value t=5. Accept all the inputs from the user and print the list d.**"
      ],
      "metadata": {
        "id": "98cY-o_Aq5OY"
      }
    },
    {
      "cell_type": "code",
      "source": [
        "#creation of the list 'a'\n",
        "a = []\n",
        "\n",
        "#setting the threshold value\n",
        "t = 5\n",
        "\n",
        "#taking the input from the user and storing into the list 'a'\n",
        "for i in range(t):\n",
        "  input_=int(input(\"Enter the Element: \"))\n",
        "  a.append(input_)\n",
        "\n",
        "#printing the list taken from the user\n",
        "print(\"===List given by User===\")\n",
        "print(a)\n",
        "\n",
        "#printing the finalized list 'd'\n",
        "d = [x*x for x in a]\n",
        "print(\"===List after Calculation==\")\n",
        "print(d)\n"
      ],
      "metadata": {
        "colab": {
          "base_uri": "https://localhost:8080/"
        },
        "id": "STj8B08Mrc9C",
        "outputId": "e241c3c6-b7a3-419b-9b7f-644a5181db89"
      },
      "execution_count": 20,
      "outputs": [
        {
          "output_type": "stream",
          "name": "stdout",
          "text": [
            "Enter the Element: 10\n",
            "Enter the Element: 15\n",
            "Enter the Element: 20\n",
            "Enter the Element: 25\n",
            "Enter the Element: 30\n",
            "===List given by User===\n",
            "[10, 15, 20, 25, 30]\n",
            "===List after Calculation==\n",
            "[100, 225, 400, 625, 900]\n"
          ]
        }
      ]
    },
    {
      "cell_type": "markdown",
      "source": [
        "4. **Given a list of strings named s as follows. Find all the strings who start with the small letter c and append it into the new list s1.**"
      ],
      "metadata": {
        "id": "kBfYi43qvBQH"
      }
    },
    {
      "cell_type": "code",
      "source": [
        "#creating the list as per the given\n",
        "S = ['Ch','Dh','Eh','cb','Tb','Td']\n",
        "\n",
        "print(\"=== Original List ===\")\n",
        "print(S)\n",
        "\n",
        "#creating the checking parameter\n",
        "check = 'c'\n",
        "\n",
        "\n",
        "#creating the new list\n",
        "S1 = [x for x in S if x[0] == check]\n",
        "\n",
        "print(\"=== Final List ===\")\n",
        "print(S1)\n",
        "\n",
        "\n",
        "\n",
        "\n",
        "\n"
      ],
      "metadata": {
        "colab": {
          "base_uri": "https://localhost:8080/"
        },
        "id": "dioi1dIIvMVm",
        "outputId": "880629c5-65fd-48d7-96a6-66f28375d5cc"
      },
      "execution_count": 19,
      "outputs": [
        {
          "output_type": "stream",
          "name": "stdout",
          "text": [
            "=== Original List ===\n",
            "['Ch', 'Dh', 'Eh', 'cb', 'Tb', 'Td']\n",
            "=== Final List ===\n",
            "['cb']\n"
          ]
        }
      ]
    },
    {
      "cell_type": "markdown",
      "source": [
        "5.\n",
        "**Consider the above list s and apply following multiple conditions for the list\n",
        "comprehension.**\n",
        "\n",
        "a. It should starts with small letter ‘c’\n",
        "\n",
        "b. It should ends with small letter ‘b’ "
      ],
      "metadata": {
        "id": "FtEKawVqxoST"
      }
    },
    {
      "cell_type": "code",
      "source": [
        "#creating the list as per the given\n",
        "S = ['Ch','Dh','Eh','cb','Tb','Td']\n",
        "\n",
        "print(\"=== Original List ===\")\n",
        "print(S)\n",
        "\n",
        "#creating the checking parameters\n",
        "first_check = 'c'\n",
        "second_check = 'b'\n",
        "\n",
        "\n",
        "#creating the new list\n",
        "S1 = [x for x in S if (x[0] == first_check and x[1] == second_check)]\n",
        "\n",
        "print(\"=== Final List ===\")\n",
        "print(S1)"
      ],
      "metadata": {
        "colab": {
          "base_uri": "https://localhost:8080/"
        },
        "id": "-3_C_q4gyDpZ",
        "outputId": "b2ff4117-6625-4820-cec3-ed17a82f996f"
      },
      "execution_count": 21,
      "outputs": [
        {
          "output_type": "stream",
          "name": "stdout",
          "text": [
            "=== Original List ===\n",
            "['Ch', 'Dh', 'Eh', 'cb', 'Tb', 'Td']\n",
            "=== Final List ===\n",
            "['cb']\n"
          ]
        }
      ]
    },
    {
      "cell_type": "markdown",
      "source": [
        "6. **Consider the following nested list. Write a list comprehension to read each\n",
        "element of the nested list and create a consolidated list consisting of all\n",
        "elements in an ascending order.**"
      ],
      "metadata": {
        "id": "RTR-gq0Ay88y"
      }
    },
    {
      "cell_type": "code",
      "source": [
        "#creating the list as per required\n",
        "vals = [[100,200,300],[45,52,23],[13,26,62]]\n",
        "\n",
        "#created the new list\n",
        "singular = []\n",
        "\n",
        "#logic for the flattening process of the list\n",
        "for sublist in vals:\n",
        "    for x in sublist:\n",
        "        singular.append(x)\n",
        "\n",
        "print(\"List after flattening\")\n",
        "print(singular)\n",
        "\n",
        "#sorting the flatten list.\n",
        "singular.sort()\n",
        "\n",
        "print(\"List after Sorting\")\n",
        "print(singular)\n",
        "\n",
        "\n",
        "\n",
        "\n"
      ],
      "metadata": {
        "colab": {
          "base_uri": "https://localhost:8080/"
        },
        "id": "mTya_RkOzI-l",
        "outputId": "21ceed70-c5db-4c87-e4c3-4d2c0b422d15"
      },
      "execution_count": 31,
      "outputs": [
        {
          "output_type": "stream",
          "name": "stdout",
          "text": [
            "List after flattening\n",
            "[100, 200, 300, 45, 52, 23, 13, 26, 62]\n",
            "List after Sorting\n",
            "[13, 23, 26, 45, 52, 62, 100, 200, 300]\n"
          ]
        }
      ]
    }
  ]
}