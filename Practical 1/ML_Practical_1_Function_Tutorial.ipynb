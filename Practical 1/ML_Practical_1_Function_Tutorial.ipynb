{
  "nbformat": 4,
  "nbformat_minor": 0,
  "metadata": {
    "colab": {
      "name": "ML_Practical_1_Function_Tutorial.ipynb",
      "provenance": [],
      "collapsed_sections": [],
      "authorship_tag": "ABX9TyPiv958S61sySouTIS/OpHs",
      "include_colab_link": true
    },
    "kernelspec": {
      "name": "python3",
      "display_name": "Python 3"
    },
    "language_info": {
      "name": "python"
    }
  },
  "cells": [
    {
      "cell_type": "markdown",
      "metadata": {
        "id": "view-in-github",
        "colab_type": "text"
      },
      "source": [
        "<a href=\"https://colab.research.google.com/github/darshanjoshi16/MachineLearningPracticals/blob/main/Practical%201/ML_Practical_1_Function_Tutorial.ipynb\" target=\"_parent\"><img src=\"https://colab.research.google.com/assets/colab-badge.svg\" alt=\"Open In Colab\"/></a>"
      ]
    },
    {
      "cell_type": "markdown",
      "source": [
        "# **Function Tutorial**"
      ],
      "metadata": {
        "id": "LLYio3xeC_B8"
      }
    },
    {
      "cell_type": "markdown",
      "source": [
        "1. **Create a python function to generate the following series with its solution.**\n",
        "\n",
        "3^2 + 4^2 + 5^2 + 6^2 + 7^2"
      ],
      "metadata": {
        "id": "_rW6UCejDDQG"
      }
    },
    {
      "cell_type": "code",
      "source": [
        "def series():\n",
        "  \n",
        "  #taking the value from the user\n",
        "   enter = int(input(\"Enter the starting value:\"))\n",
        "   exiting = int(input(\"Enter the starting finishing value:\"))\n",
        "  \n",
        "  #initializing the sum\n",
        "   sum = 0;\n",
        "\n",
        "   #loop iteration from the starting value to last value\n",
        "   for i in range(enter,exiting+1):\n",
        "      square = i * i\n",
        "      sum = sum + square\n",
        "      print(str(i)+\"^2 +\")\n",
        "   \n",
        "   print(\"=\"+str(sum))\n",
        "\n",
        "#callback to the function  \n",
        "series()\n",
        " \n"
      ],
      "metadata": {
        "colab": {
          "base_uri": "https://localhost:8080/"
        },
        "id": "PE-yxfISDLgj",
        "outputId": "710e3a5e-cca2-4bf1-8c38-5fbd137e9084"
      },
      "execution_count": null,
      "outputs": [
        {
          "output_type": "stream",
          "name": "stdout",
          "text": [
            "Enter the starting value:3\n",
            "Enter the starting finishing value:7\n",
            "3^2 +\n",
            "4^2 +\n",
            "5^2 +\n",
            "6^2 +\n",
            "7^2 +\n",
            "=135\n"
          ]
        }
      ]
    },
    {
      "cell_type": "markdown",
      "source": [
        "2. **Write a function to create a generator of square values ranging from 0 to\n",
        "100** "
      ],
      "metadata": {
        "id": "X1cZ62SaGp7t"
      }
    },
    {
      "cell_type": "code",
      "source": [
        "def square():\n",
        "  \n",
        "  #taking the value from the user\n",
        "   enter = int(input(\"Enter the starting value:\"))\n",
        "   exiting = int(input(\"Enter the starting finishing value:\"))\n",
        "  \n",
        "   #loop iteration from the starting value to last value\n",
        "   for i in range(enter,exiting+1):\n",
        "      print(str(i)+\"^2 = \"+str(i*i))\n",
        "   \n",
        "#callback to the function\n",
        "square()\n",
        " "
      ],
      "metadata": {
        "colab": {
          "base_uri": "https://localhost:8080/"
        },
        "id": "N13cJ5aLGz3y",
        "outputId": "494c9961-72f9-4d90-e538-ebf0c1d457e7"
      },
      "execution_count": null,
      "outputs": [
        {
          "output_type": "stream",
          "name": "stdout",
          "text": [
            "Enter the starting value:0\n",
            "Enter the starting finishing value:100\n",
            "0^2 = 0\n",
            "1^2 = 1\n",
            "2^2 = 4\n",
            "3^2 = 9\n",
            "4^2 = 16\n",
            "5^2 = 25\n",
            "6^2 = 36\n",
            "7^2 = 49\n",
            "8^2 = 64\n",
            "9^2 = 81\n",
            "10^2 = 100\n",
            "11^2 = 121\n",
            "12^2 = 144\n",
            "13^2 = 169\n",
            "14^2 = 196\n",
            "15^2 = 225\n",
            "16^2 = 256\n",
            "17^2 = 289\n",
            "18^2 = 324\n",
            "19^2 = 361\n",
            "20^2 = 400\n",
            "21^2 = 441\n",
            "22^2 = 484\n",
            "23^2 = 529\n",
            "24^2 = 576\n",
            "25^2 = 625\n",
            "26^2 = 676\n",
            "27^2 = 729\n",
            "28^2 = 784\n",
            "29^2 = 841\n",
            "30^2 = 900\n",
            "31^2 = 961\n",
            "32^2 = 1024\n",
            "33^2 = 1089\n",
            "34^2 = 1156\n",
            "35^2 = 1225\n",
            "36^2 = 1296\n",
            "37^2 = 1369\n",
            "38^2 = 1444\n",
            "39^2 = 1521\n",
            "40^2 = 1600\n",
            "41^2 = 1681\n",
            "42^2 = 1764\n",
            "43^2 = 1849\n",
            "44^2 = 1936\n",
            "45^2 = 2025\n",
            "46^2 = 2116\n",
            "47^2 = 2209\n",
            "48^2 = 2304\n",
            "49^2 = 2401\n",
            "50^2 = 2500\n",
            "51^2 = 2601\n",
            "52^2 = 2704\n",
            "53^2 = 2809\n",
            "54^2 = 2916\n",
            "55^2 = 3025\n",
            "56^2 = 3136\n",
            "57^2 = 3249\n",
            "58^2 = 3364\n",
            "59^2 = 3481\n",
            "60^2 = 3600\n",
            "61^2 = 3721\n",
            "62^2 = 3844\n",
            "63^2 = 3969\n",
            "64^2 = 4096\n",
            "65^2 = 4225\n",
            "66^2 = 4356\n",
            "67^2 = 4489\n",
            "68^2 = 4624\n",
            "69^2 = 4761\n",
            "70^2 = 4900\n",
            "71^2 = 5041\n",
            "72^2 = 5184\n",
            "73^2 = 5329\n",
            "74^2 = 5476\n",
            "75^2 = 5625\n",
            "76^2 = 5776\n",
            "77^2 = 5929\n",
            "78^2 = 6084\n",
            "79^2 = 6241\n",
            "80^2 = 6400\n",
            "81^2 = 6561\n",
            "82^2 = 6724\n",
            "83^2 = 6889\n",
            "84^2 = 7056\n",
            "85^2 = 7225\n",
            "86^2 = 7396\n",
            "87^2 = 7569\n",
            "88^2 = 7744\n",
            "89^2 = 7921\n",
            "90^2 = 8100\n",
            "91^2 = 8281\n",
            "92^2 = 8464\n",
            "93^2 = 8649\n",
            "94^2 = 8836\n",
            "95^2 = 9025\n",
            "96^2 = 9216\n",
            "97^2 = 9409\n",
            "98^2 = 9604\n",
            "99^2 = 9801\n",
            "100^2 = 10000\n"
          ]
        }
      ]
    },
    {
      "cell_type": "markdown",
      "source": [
        "3. **Demonstrate the usage of map, reduce and filter function on a custom user\n",
        "defined list**"
      ],
      "metadata": {
        "id": "41AFoKTUIKHY"
      }
    },
    {
      "cell_type": "code",
      "source": [
        "from functools import reduce\n",
        "#creation of user defined list\n",
        "lst = []\n",
        "lst2 = []\n",
        "num = int(input(\"How many items you want to add in list: \"))\n",
        "\n",
        "for i in range(num):\n",
        "  user_in = input(\"Enter the \"+ str(i+1) +\" content: \")\n",
        "  lst.append(user_in)\n",
        "\n",
        "# using the map function\n",
        "# map() passes each element in the iterable through a function and returns the result of all elements having passed through the function\n",
        "new_list= list(map(str.upper, lst))\n",
        "print(\"List after using the Map Function\")\n",
        "print(new_list)\n",
        "\n",
        "print(\"==============================================================\")\n",
        "\n",
        "#using the filter function\n",
        "#filter() requires the function to return boolean values (true or false) and then passes each element in the iterable through the function\n",
        "palindromes = list(filter(lambda word: word == word[::-1],lst))\n",
        "print(\"List after using the filter function\")\n",
        "print(palindromes)\n",
        "\n",
        "\n",
        "print(\"============================================================\")\n",
        "\n",
        "# using the reduce function\n",
        "# reduce applies a function of two arguments cumulatively to the elements of an iterable, optionally starting with an initial argument.\n",
        "for i in range(num):\n",
        "  user_in = int(input(\"Enter the \"+ str(i+1) +\" content: \"))\n",
        "  lst2.append(user_in)\n",
        "\n",
        "reduce_result = reduce(lambda num1, num2: num1 * num2, lst2)\n",
        "print(\"List after using the reduce function:\")\n",
        "print(reduce_result)"
      ],
      "metadata": {
        "id": "9rpMKNdEIRXT",
        "colab": {
          "base_uri": "https://localhost:8080/"
        },
        "outputId": "23f9e8cd-26da-4591-e14c-3d6e879c7bc6"
      },
      "execution_count": 8,
      "outputs": [
        {
          "output_type": "stream",
          "name": "stdout",
          "text": [
            "How many items you want to add in list: 3\n",
            "Enter the 1 content: madam\n",
            "Enter the 2 content: damad\n",
            "Enter the 3 content: darshan\n",
            "List after using the Map Function\n",
            "['MADAM', 'DAMAD', 'DARSHAN']\n",
            "==============================================================\n",
            "List after using the filter function\n",
            "['madam', 'damad']\n",
            "============================================================\n",
            "Enter the 1 content: 45\n",
            "Enter the 2 content: 4\n",
            "Enter the 3 content: 6\n",
            "List after using the reduce function:\n",
            "1080\n"
          ]
        }
      ]
    },
    {
      "cell_type": "markdown",
      "source": [
        "4. **Demonstrate the usage of any function with appropriate examples.**"
      ],
      "metadata": {
        "id": "3KiPsAdFLmBA"
      }
    },
    {
      "cell_type": "code",
      "source": [
        "#defining the prime number function which is boolean \n",
        "def is_prime(n):\n",
        "    if n in [2, 3]:\n",
        "        return True\n",
        "    if n % 2 == 0:\n",
        "        return False\n",
        "    r = 3\n",
        "    while r * r <= n:\n",
        "        if n % r == 0:\n",
        "            return False\n",
        "        r += 2\n",
        "    return True\n",
        "\n",
        "#driver code for the function\n",
        "num = int(input(\"For How many records you want to run the function: \"))\n",
        "\n",
        "for i in range(num):\n",
        "  user_input = int(input(\"Enter the value:\"))\n",
        "  print(is_prime(user_input))"
      ],
      "metadata": {
        "colab": {
          "base_uri": "https://localhost:8080/"
        },
        "id": "6KOTgOmyL5r5",
        "outputId": "e415ab72-567e-4c23-aa67-43da61a4ef18"
      },
      "execution_count": 10,
      "outputs": [
        {
          "output_type": "stream",
          "name": "stdout",
          "text": [
            "For How many records you want to run the function: 3\n",
            "Enter the value:11\n",
            "True\n",
            "Enter the value:43\n",
            "True\n",
            "Enter the value:20\n",
            "False\n"
          ]
        }
      ]
    },
    {
      "cell_type": "markdown",
      "source": [
        "5. **Demonstrate the usage of zip function with appropriate examples.**"
      ],
      "metadata": {
        "id": "Q9lvGmVzNbHG"
      }
    },
    {
      "cell_type": "code",
      "source": [
        "#creation of list\n",
        "tup_1 = []\n",
        "tup_2 = []\n",
        "\n",
        "#entering the records into the first tuple\n",
        "first = int(input(\"How many records do you want to enter into the first tuple: \"))\n",
        "\n",
        "for i in range(first):\n",
        "  user_in = input(\"Enter the \"+str(i+1)+\" record: \")\n",
        "  tup_1.append(user_in)\n",
        "\n",
        "print(\"First Tuple\")\n",
        "print(tup_1)\n",
        "\n",
        "#rntering the records into the second tuple\n",
        "second = int(input(\"How many records do you want to enter into the second tuple: \"))\n",
        "\n",
        "for i in range(second):\n",
        "  user_in = input(\"Enter the \"+str(i+1)+\" record: \")\n",
        "  tup_2.append(user_in)\n",
        "\n",
        "print(\"Second Tuple\")\n",
        "print(tup_2)\n",
        "\n",
        "\n",
        "#using the zip function\n",
        "print(\"After using the zip function\")\n",
        "x = list(zip(tup_1,tup_2))\n",
        "print(x)\n",
        "\n",
        "\n"
      ],
      "metadata": {
        "colab": {
          "base_uri": "https://localhost:8080/"
        },
        "id": "8OV5JZ6INhZ3",
        "outputId": "a2ad18ec-ce20-4fe9-fa2d-82cb0dcdfd88"
      },
      "execution_count": 13,
      "outputs": [
        {
          "output_type": "stream",
          "name": "stdout",
          "text": [
            "How many records do you want to enter into the first tuple: 3\n",
            "Enter the 1 record: Darshan\n",
            "Enter the 2 record: Ayush\n",
            "Enter the 3 record: Shahid\n",
            "First Tuple\n",
            "['Darshan', 'Ayush', 'Shahid']\n",
            "How many records do you want to enter into the second tuple: 4\n",
            "Enter the 1 record: 54\n",
            "Enter the 2 record: 65\n",
            "Enter the 3 record: 76\n",
            "Enter the 4 record: 4\n",
            "Second Tuple\n",
            "['54', '65', '76', '4']\n",
            "After using the zip function\n",
            "[('Darshan', '54'), ('Ayush', '65'), ('Shahid', '76')]\n"
          ]
        }
      ]
    }
  ]
}