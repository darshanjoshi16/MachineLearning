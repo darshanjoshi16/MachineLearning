{
  "nbformat": 4,
  "nbformat_minor": 0,
  "metadata": {
    "colab": {
      "provenance": [],
      "collapsed_sections": [
        "rxGGsqLm_Y12",
        "SVh5zF0lDHvw",
        "KqJYjr4NHHUT",
        "K1jF-jcUUa1r"
      ],
      "authorship_tag": "ABX9TyM6tqGw6WseVA7Q+o7L2Zuf",
      "include_colab_link": true
    },
    "kernelspec": {
      "name": "python3",
      "display_name": "Python 3"
    },
    "language_info": {
      "name": "python"
    }
  },
  "cells": [
    {
      "cell_type": "markdown",
      "metadata": {
        "id": "view-in-github",
        "colab_type": "text"
      },
      "source": [
        "<a href=\"https://colab.research.google.com/github/darshanjoshi16/MachineLearningPracticals/blob/main/Practical%208%20(Regression)%20/%20ML_Lab_Assignment_8_Regression.ipynb\" target=\"_parent\"><img src=\"https://colab.research.google.com/assets/colab-badge.svg\" alt=\"Open In Colab\"/></a>"
      ]
    },
    {
      "cell_type": "markdown",
      "source": [
        "**Implement the following Regression Models for any datasets of your choice**\n",
        "\n",
        "\n",
        "1) Simple Linear Regression Model\n",
        "\n",
        "2) Multiple Linear Regression Model\n",
        "\n",
        "3) Logistic Regression Model\n",
        "\n",
        "4) Polynomial Regression Model"
      ],
      "metadata": {
        "id": "CKQy_c3z7lNg"
      }
    },
    {
      "cell_type": "code",
      "execution_count": 34,
      "metadata": {
        "colab": {
          "base_uri": "https://localhost:8080/",
          "height": 973
        },
        "id": "EGfsNCyy7aGZ",
        "outputId": "ddbc6bad-17d6-4afc-d801-3815c3e71cac"
      },
      "outputs": [
        {
          "output_type": "execute_result",
          "data": {
            "text/plain": [
              "    YearsExperience    Salary\n",
              "0               1.1   39343.0\n",
              "1               1.3   46205.0\n",
              "2               1.5   37731.0\n",
              "3               2.0   43525.0\n",
              "4               2.2   39891.0\n",
              "5               2.9   56642.0\n",
              "6               3.0   60150.0\n",
              "7               3.2   54445.0\n",
              "8               3.2   64445.0\n",
              "9               3.7   57189.0\n",
              "10              3.9   63218.0\n",
              "11              4.0   55794.0\n",
              "12              4.0   56957.0\n",
              "13              4.1   57081.0\n",
              "14              4.5   61111.0\n",
              "15              4.9   67938.0\n",
              "16              5.1   66029.0\n",
              "17              5.3   83088.0\n",
              "18              5.9   81363.0\n",
              "19              6.0   93940.0\n",
              "20              6.8   91738.0\n",
              "21              7.1   98273.0\n",
              "22              7.9  101302.0\n",
              "23              8.2  113812.0\n",
              "24              8.7  109431.0\n",
              "25              9.0  105582.0\n",
              "26              9.5  116969.0\n",
              "27              9.6  112635.0\n",
              "28             10.3  122391.0\n",
              "29             10.5  121872.0"
            ],
            "text/html": [
              "\n",
              "  <div id=\"df-41f4d67f-02c2-444f-b252-c374a6641014\">\n",
              "    <div class=\"colab-df-container\">\n",
              "      <div>\n",
              "<style scoped>\n",
              "    .dataframe tbody tr th:only-of-type {\n",
              "        vertical-align: middle;\n",
              "    }\n",
              "\n",
              "    .dataframe tbody tr th {\n",
              "        vertical-align: top;\n",
              "    }\n",
              "\n",
              "    .dataframe thead th {\n",
              "        text-align: right;\n",
              "    }\n",
              "</style>\n",
              "<table border=\"1\" class=\"dataframe\">\n",
              "  <thead>\n",
              "    <tr style=\"text-align: right;\">\n",
              "      <th></th>\n",
              "      <th>YearsExperience</th>\n",
              "      <th>Salary</th>\n",
              "    </tr>\n",
              "  </thead>\n",
              "  <tbody>\n",
              "    <tr>\n",
              "      <th>0</th>\n",
              "      <td>1.1</td>\n",
              "      <td>39343.0</td>\n",
              "    </tr>\n",
              "    <tr>\n",
              "      <th>1</th>\n",
              "      <td>1.3</td>\n",
              "      <td>46205.0</td>\n",
              "    </tr>\n",
              "    <tr>\n",
              "      <th>2</th>\n",
              "      <td>1.5</td>\n",
              "      <td>37731.0</td>\n",
              "    </tr>\n",
              "    <tr>\n",
              "      <th>3</th>\n",
              "      <td>2.0</td>\n",
              "      <td>43525.0</td>\n",
              "    </tr>\n",
              "    <tr>\n",
              "      <th>4</th>\n",
              "      <td>2.2</td>\n",
              "      <td>39891.0</td>\n",
              "    </tr>\n",
              "    <tr>\n",
              "      <th>5</th>\n",
              "      <td>2.9</td>\n",
              "      <td>56642.0</td>\n",
              "    </tr>\n",
              "    <tr>\n",
              "      <th>6</th>\n",
              "      <td>3.0</td>\n",
              "      <td>60150.0</td>\n",
              "    </tr>\n",
              "    <tr>\n",
              "      <th>7</th>\n",
              "      <td>3.2</td>\n",
              "      <td>54445.0</td>\n",
              "    </tr>\n",
              "    <tr>\n",
              "      <th>8</th>\n",
              "      <td>3.2</td>\n",
              "      <td>64445.0</td>\n",
              "    </tr>\n",
              "    <tr>\n",
              "      <th>9</th>\n",
              "      <td>3.7</td>\n",
              "      <td>57189.0</td>\n",
              "    </tr>\n",
              "    <tr>\n",
              "      <th>10</th>\n",
              "      <td>3.9</td>\n",
              "      <td>63218.0</td>\n",
              "    </tr>\n",
              "    <tr>\n",
              "      <th>11</th>\n",
              "      <td>4.0</td>\n",
              "      <td>55794.0</td>\n",
              "    </tr>\n",
              "    <tr>\n",
              "      <th>12</th>\n",
              "      <td>4.0</td>\n",
              "      <td>56957.0</td>\n",
              "    </tr>\n",
              "    <tr>\n",
              "      <th>13</th>\n",
              "      <td>4.1</td>\n",
              "      <td>57081.0</td>\n",
              "    </tr>\n",
              "    <tr>\n",
              "      <th>14</th>\n",
              "      <td>4.5</td>\n",
              "      <td>61111.0</td>\n",
              "    </tr>\n",
              "    <tr>\n",
              "      <th>15</th>\n",
              "      <td>4.9</td>\n",
              "      <td>67938.0</td>\n",
              "    </tr>\n",
              "    <tr>\n",
              "      <th>16</th>\n",
              "      <td>5.1</td>\n",
              "      <td>66029.0</td>\n",
              "    </tr>\n",
              "    <tr>\n",
              "      <th>17</th>\n",
              "      <td>5.3</td>\n",
              "      <td>83088.0</td>\n",
              "    </tr>\n",
              "    <tr>\n",
              "      <th>18</th>\n",
              "      <td>5.9</td>\n",
              "      <td>81363.0</td>\n",
              "    </tr>\n",
              "    <tr>\n",
              "      <th>19</th>\n",
              "      <td>6.0</td>\n",
              "      <td>93940.0</td>\n",
              "    </tr>\n",
              "    <tr>\n",
              "      <th>20</th>\n",
              "      <td>6.8</td>\n",
              "      <td>91738.0</td>\n",
              "    </tr>\n",
              "    <tr>\n",
              "      <th>21</th>\n",
              "      <td>7.1</td>\n",
              "      <td>98273.0</td>\n",
              "    </tr>\n",
              "    <tr>\n",
              "      <th>22</th>\n",
              "      <td>7.9</td>\n",
              "      <td>101302.0</td>\n",
              "    </tr>\n",
              "    <tr>\n",
              "      <th>23</th>\n",
              "      <td>8.2</td>\n",
              "      <td>113812.0</td>\n",
              "    </tr>\n",
              "    <tr>\n",
              "      <th>24</th>\n",
              "      <td>8.7</td>\n",
              "      <td>109431.0</td>\n",
              "    </tr>\n",
              "    <tr>\n",
              "      <th>25</th>\n",
              "      <td>9.0</td>\n",
              "      <td>105582.0</td>\n",
              "    </tr>\n",
              "    <tr>\n",
              "      <th>26</th>\n",
              "      <td>9.5</td>\n",
              "      <td>116969.0</td>\n",
              "    </tr>\n",
              "    <tr>\n",
              "      <th>27</th>\n",
              "      <td>9.6</td>\n",
              "      <td>112635.0</td>\n",
              "    </tr>\n",
              "    <tr>\n",
              "      <th>28</th>\n",
              "      <td>10.3</td>\n",
              "      <td>122391.0</td>\n",
              "    </tr>\n",
              "    <tr>\n",
              "      <th>29</th>\n",
              "      <td>10.5</td>\n",
              "      <td>121872.0</td>\n",
              "    </tr>\n",
              "  </tbody>\n",
              "</table>\n",
              "</div>\n",
              "      <button class=\"colab-df-convert\" onclick=\"convertToInteractive('df-41f4d67f-02c2-444f-b252-c374a6641014')\"\n",
              "              title=\"Convert this dataframe to an interactive table.\"\n",
              "              style=\"display:none;\">\n",
              "        \n",
              "  <svg xmlns=\"http://www.w3.org/2000/svg\" height=\"24px\"viewBox=\"0 0 24 24\"\n",
              "       width=\"24px\">\n",
              "    <path d=\"M0 0h24v24H0V0z\" fill=\"none\"/>\n",
              "    <path d=\"M18.56 5.44l.94 2.06.94-2.06 2.06-.94-2.06-.94-.94-2.06-.94 2.06-2.06.94zm-11 1L8.5 8.5l.94-2.06 2.06-.94-2.06-.94L8.5 2.5l-.94 2.06-2.06.94zm10 10l.94 2.06.94-2.06 2.06-.94-2.06-.94-.94-2.06-.94 2.06-2.06.94z\"/><path d=\"M17.41 7.96l-1.37-1.37c-.4-.4-.92-.59-1.43-.59-.52 0-1.04.2-1.43.59L10.3 9.45l-7.72 7.72c-.78.78-.78 2.05 0 2.83L4 21.41c.39.39.9.59 1.41.59.51 0 1.02-.2 1.41-.59l7.78-7.78 2.81-2.81c.8-.78.8-2.07 0-2.86zM5.41 20L4 18.59l7.72-7.72 1.47 1.35L5.41 20z\"/>\n",
              "  </svg>\n",
              "      </button>\n",
              "      \n",
              "  <style>\n",
              "    .colab-df-container {\n",
              "      display:flex;\n",
              "      flex-wrap:wrap;\n",
              "      gap: 12px;\n",
              "    }\n",
              "\n",
              "    .colab-df-convert {\n",
              "      background-color: #E8F0FE;\n",
              "      border: none;\n",
              "      border-radius: 50%;\n",
              "      cursor: pointer;\n",
              "      display: none;\n",
              "      fill: #1967D2;\n",
              "      height: 32px;\n",
              "      padding: 0 0 0 0;\n",
              "      width: 32px;\n",
              "    }\n",
              "\n",
              "    .colab-df-convert:hover {\n",
              "      background-color: #E2EBFA;\n",
              "      box-shadow: 0px 1px 2px rgba(60, 64, 67, 0.3), 0px 1px 3px 1px rgba(60, 64, 67, 0.15);\n",
              "      fill: #174EA6;\n",
              "    }\n",
              "\n",
              "    [theme=dark] .colab-df-convert {\n",
              "      background-color: #3B4455;\n",
              "      fill: #D2E3FC;\n",
              "    }\n",
              "\n",
              "    [theme=dark] .colab-df-convert:hover {\n",
              "      background-color: #434B5C;\n",
              "      box-shadow: 0px 1px 3px 1px rgba(0, 0, 0, 0.15);\n",
              "      filter: drop-shadow(0px 1px 2px rgba(0, 0, 0, 0.3));\n",
              "      fill: #FFFFFF;\n",
              "    }\n",
              "  </style>\n",
              "\n",
              "      <script>\n",
              "        const buttonEl =\n",
              "          document.querySelector('#df-41f4d67f-02c2-444f-b252-c374a6641014 button.colab-df-convert');\n",
              "        buttonEl.style.display =\n",
              "          google.colab.kernel.accessAllowed ? 'block' : 'none';\n",
              "\n",
              "        async function convertToInteractive(key) {\n",
              "          const element = document.querySelector('#df-41f4d67f-02c2-444f-b252-c374a6641014');\n",
              "          const dataTable =\n",
              "            await google.colab.kernel.invokeFunction('convertToInteractive',\n",
              "                                                     [key], {});\n",
              "          if (!dataTable) return;\n",
              "\n",
              "          const docLinkHtml = 'Like what you see? Visit the ' +\n",
              "            '<a target=\"_blank\" href=https://colab.research.google.com/notebooks/data_table.ipynb>data table notebook</a>'\n",
              "            + ' to learn more about interactive tables.';\n",
              "          element.innerHTML = '';\n",
              "          dataTable['output_type'] = 'display_data';\n",
              "          await google.colab.output.renderOutput(dataTable, element);\n",
              "          const docLink = document.createElement('div');\n",
              "          docLink.innerHTML = docLinkHtml;\n",
              "          element.appendChild(docLink);\n",
              "        }\n",
              "      </script>\n",
              "    </div>\n",
              "  </div>\n",
              "  "
            ]
          },
          "metadata": {},
          "execution_count": 34
        }
      ],
      "source": [
        "#importing the dataset using the pandas library\n",
        "import pandas as pd\n",
        "import numpy as np \n",
        "import matplotlib.pyplot as plt\n",
        "from sklearn.model_selection import train_test_split   \n",
        "\n",
        "df = pd.read_csv('/content/Salary_Data.csv')\n",
        "df"
      ]
    },
    {
      "cell_type": "code",
      "source": [
        "print(\"Name of Columns: \",df.columns)\n",
        "print(\"*\"*80)\n",
        "print(\"Count of rows: \",len(df.index.values))\n",
        "print(\"*\"*80)\n",
        "print(\"Sample column data:\",df.iloc[:, 0].values)\n",
        "print(\"*\"*80)\n",
        "print(\"Sample row data:\",df.iloc[:,1].values)"
      ],
      "metadata": {
        "colab": {
          "base_uri": "https://localhost:8080/"
        },
        "id": "kNIWt8-H899O",
        "outputId": "5863ee9b-2a38-4638-d845-7cb0d7b78db4"
      },
      "execution_count": 35,
      "outputs": [
        {
          "output_type": "stream",
          "name": "stdout",
          "text": [
            "Name of Columns:  Index(['YearsExperience', 'Salary'], dtype='object')\n",
            "********************************************************************************\n",
            "Count of rows:  30\n",
            "********************************************************************************\n",
            "Sample column data: [ 1.1  1.3  1.5  2.   2.2  2.9  3.   3.2  3.2  3.7  3.9  4.   4.   4.1\n",
            "  4.5  4.9  5.1  5.3  5.9  6.   6.8  7.1  7.9  8.2  8.7  9.   9.5  9.6\n",
            " 10.3 10.5]\n",
            "********************************************************************************\n",
            "Sample row data: [ 39343.  46205.  37731.  43525.  39891.  56642.  60150.  54445.  64445.\n",
            "  57189.  63218.  55794.  56957.  57081.  61111.  67938.  66029.  83088.\n",
            "  81363.  93940.  91738.  98273. 101302. 113812. 109431. 105582. 116969.\n",
            " 112635. 122391. 121872.]\n"
          ]
        }
      ]
    },
    {
      "cell_type": "code",
      "source": [
        "#now we will split the dataset into training and testing dataset\n",
        "x= df.iloc[:, 0].values  \n",
        "y= df.iloc[:, 1].values \n",
        "\n",
        " \n",
        "x_train, x_test, y_train, y_test= train_test_split(x, y, test_size=0.30, random_state=5)\n"
      ],
      "metadata": {
        "id": "hbKHXTKn-fnU"
      },
      "execution_count": 36,
      "outputs": []
    },
    {
      "cell_type": "markdown",
      "source": [
        "# **Using the Simple Linear Regression**"
      ],
      "metadata": {
        "id": "rxGGsqLm_Y12"
      }
    },
    {
      "cell_type": "code",
      "source": [
        "from sklearn.linear_model import LinearRegression  \n",
        "\n",
        "#calling the method\n",
        "regressor= LinearRegression() \n",
        "#training the model \n",
        "regressor.fit(x_train.reshape(-1,1), y_train.reshape(-1,1))\n",
        "\n",
        "#deriving the intercept and coefficient\n",
        "print(\"intercept: \",regressor.intercept_)\n",
        "print(\"*\"*80) \n",
        "print(\"coeffcient: \",regressor.coef_)\n",
        "\n",
        "#for prediction purpose\n",
        "y_pred= regressor.predict(x_test.reshape(-1,1))\n",
        "\n"
      ],
      "metadata": {
        "colab": {
          "base_uri": "https://localhost:8080/"
        },
        "id": "Vc9zB7vy_dJL",
        "outputId": "e798d694-6c70-4482-cb79-891e0055cd03"
      },
      "execution_count": 24,
      "outputs": [
        {
          "output_type": "stream",
          "name": "stdout",
          "text": [
            "intercept:  [27182.22562441]\n",
            "********************************************************************************\n",
            "coeffcient:  [[9298.06674988]]\n"
          ]
        }
      ]
    },
    {
      "cell_type": "code",
      "source": [
        "#we will check the metrics as well\n",
        "from sklearn import metrics\n",
        "\n",
        "#here we are comparing the values after model training and predicted values\n",
        "df2 = pd.DataFrame({'Actual': y_test.flatten(), 'Predicted': y_pred.flatten()})\n",
        "print(df2)\n",
        "\n",
        "print(\"*\"*80)\n",
        "r2=metrics.r2_score(y_test, y_pred) #R2\n",
        "print(\"R2{}\",r2)\n",
        "\n"
      ],
      "metadata": {
        "colab": {
          "base_uri": "https://localhost:8080/"
        },
        "id": "LyGvj20pAq9w",
        "outputId": "66b6aacb-3989-4d62-ebee-3e4791d9d2ca"
      },
      "execution_count": 37,
      "outputs": [
        {
          "output_type": "stream",
          "name": "stdout",
          "text": [
            "     Actual      Predicted\n",
            "0   55794.0   64374.492624\n",
            "1  121872.0  124811.926498\n",
            "2  113812.0  103426.372973\n",
            "3  105582.0  110864.826373\n",
            "4   81363.0   82040.819449\n",
            "5   63218.0   63444.685949\n",
            "6   37731.0   41129.325749\n",
            "7   57081.0   65304.299299\n",
            "8  116969.0  115513.859748\n",
            "********************************************************************************\n",
            "R2{} 0.9624024983951907\n"
          ]
        }
      ]
    },
    {
      "cell_type": "code",
      "source": [
        "#here we will do the plotting\n",
        "plt.scatter(x_test, y_test, color=\"red\")\n",
        "plt.plot(x_test, y_pred, color=\"green\")   \n",
        "plt.title(\"Salary vs Experience (Using Testing Dataset)\")  \n",
        "plt.xlabel(\"Experience(In Years)\")  \n",
        "plt.ylabel(\"Salary(In Rupees)\")  \n",
        "plt.show()  "
      ],
      "metadata": {
        "colab": {
          "base_uri": "https://localhost:8080/",
          "height": 295
        },
        "id": "4iq3jJAgCojT",
        "outputId": "757e0a42-a209-426d-9f8f-1979db82443f"
      },
      "execution_count": 33,
      "outputs": [
        {
          "output_type": "display_data",
          "data": {
            "text/plain": [
              "<Figure size 432x288 with 1 Axes>"
            ],
            "image/png": "[encoded data removed]"
          },
          "metadata": {
            "needs_background": "light"
          }
        }
      ]
    },
    {
      "cell_type": "markdown",
      "source": [
        "# **Using Multiple Linear Regression**"
      ],
      "metadata": {
        "id": "SVh5zF0lDHvw"
      }
    },
    {
      "cell_type": "code",
      "source": [
        "#here we will use the famous boston dataset which is available in scikit library\n",
        "from sklearn.linear_model import LinearRegression\n",
        "from sklearn import datasets\n",
        "\n",
        "#dataset describing\n",
        "house_boston = datasets.load_boston()\n",
        "print(house_boston.DESCR)"
      ],
      "metadata": {
        "colab": {
          "base_uri": "https://localhost:8080/"
        },
        "id": "rHR0U5gZDQai",
        "outputId": "93b16011-aa35-453c-bcf5-cad6e2915e08"
      },
      "execution_count": 38,
      "outputs": [
        {
          "output_type": "stream",
          "name": "stdout",
          "text": [
            ".. _boston_dataset:\n",
            "\n",
            "Boston house prices dataset\n",
            "---------------------------\n",
            "\n",
            "**Data Set Characteristics:**  \n",
            "\n",
            "    :Number of Instances: 506 \n",
            "\n",
            "    :Number of Attributes: 13 numeric/categorical predictive. Median Value (attribute 14) is usually the target.\n",
            "\n",
            "    :Attribute Information (in order):\n",
            "        - CRIM     per capita crime rate by town\n",
            "        - ZN       proportion of residential land zoned for lots over 25,000 sq.ft.\n",
            "        - INDUS    proportion of non-retail business acres per town\n",
            "        - CHAS     Charles River dummy variable (= 1 if tract bounds river; 0 otherwise)\n",
            "        - NOX      nitric oxides concentration (parts per 10 million)\n",
            "        - RM       average number of rooms per dwelling\n",
            "        - AGE      proportion of owner-occupied units built prior to 1940\n",
            "        - DIS      weighted distances to five Boston employment centres\n",
            "        - RAD      index of accessibility to radial highways\n",
            "        - TAX      full-value property-tax rate per $10,000\n",
            "        - PTRATIO  pupil-teacher ratio by town\n",
            "        - B        1000(Bk - 0.63)^2 where Bk is the proportion of black people by town\n",
            "        - LSTAT    % lower status of the population\n",
            "        - MEDV     Median value of owner-occupied homes in $1000's\n",
            "\n",
            "    :Missing Attribute Values: None\n",
            "\n",
            "    :Creator: Harrison, D. and Rubinfeld, D.L.\n",
            "\n",
            "This is a copy of UCI ML housing dataset.\n",
            "https://archive.ics.uci.edu/ml/machine-learning-databases/housing/\n",
            "\n",
            "\n",
            "This dataset was taken from the StatLib library which is maintained at Carnegie Mellon University.\n",
            "\n",
            "The Boston house-price data of Harrison, D. and Rubinfeld, D.L. 'Hedonic\n",
            "prices and the demand for clean air', J. Environ. Economics & Management,\n",
            "vol.5, 81-102, 1978.   Used in Belsley, Kuh & Welsch, 'Regression diagnostics\n",
            "...', Wiley, 1980.   N.B. Various transformations are used in the table on\n",
            "pages 244-261 of the latter.\n",
            "\n",
            "The Boston house-price data has been used in many machine learning papers that address regression\n",
            "problems.   \n",
            "     \n",
            ".. topic:: References\n",
            "\n",
            "   - Belsley, Kuh & Welsch, 'Regression diagnostics: Identifying Influential Data and Sources of Collinearity', Wiley, 1980. 244-261.\n",
            "   - Quinlan,R. (1993). Combining Instance-Based and Model-Based Learning. In Proceedings on the Tenth International Conference of Machine Learning, 236-243, University of Massachusetts, Amherst. Morgan Kaufmann.\n",
            "\n"
          ]
        },
        {
          "output_type": "stream",
          "name": "stderr",
          "text": [
            "/usr/local/lib/python3.7/dist-packages/sklearn/utils/deprecation.py:87: FutureWarning: Function load_boston is deprecated; `load_boston` is deprecated in 1.0 and will be removed in 1.2.\n",
            "\n",
            "    The Boston housing prices dataset has an ethical problem. You can refer to\n",
            "    the documentation of this function for further details.\n",
            "\n",
            "    The scikit-learn maintainers therefore strongly discourage the use of this\n",
            "    dataset unless the purpose of the code is to study and educate about\n",
            "    ethical issues in data science and machine learning.\n",
            "\n",
            "    In this special case, you can fetch the dataset from the original\n",
            "    source::\n",
            "\n",
            "        import pandas as pd\n",
            "        import numpy as np\n",
            "\n",
            "\n",
            "        data_url = \"http://lib.stat.cmu.edu/datasets/boston\"\n",
            "        raw_df = pd.read_csv(data_url, sep=\"\\s+\", skiprows=22, header=None)\n",
            "        data = np.hstack([raw_df.values[::2, :], raw_df.values[1::2, :2]])\n",
            "        target = raw_df.values[1::2, 2]\n",
            "\n",
            "    Alternative datasets include the California housing dataset (i.e.\n",
            "    :func:`~sklearn.datasets.fetch_california_housing`) and the Ames housing\n",
            "    dataset. You can load the datasets as follows::\n",
            "\n",
            "        from sklearn.datasets import fetch_california_housing\n",
            "        housing = fetch_california_housing()\n",
            "\n",
            "    for the California housing dataset and::\n",
            "\n",
            "        from sklearn.datasets import fetch_openml\n",
            "        housing = fetch_openml(name=\"house_prices\", as_frame=True)\n",
            "\n",
            "    for the Ames housing dataset.\n",
            "    \n",
            "  warnings.warn(msg, category=FutureWarning)\n"
          ]
        }
      ]
    },
    {
      "cell_type": "code",
      "source": [
        "#splitting the dataset\n",
        "train_x, test_x, train_y, test_y = train_test_split(house_boston.data,\n",
        "                                                    house_boston.target,\n",
        "                                                    test_size=0.2,\n",
        "                                                    random_state=35)\n",
        "#calling the linear regression method\n",
        "lr = LinearRegression()\n",
        "\n",
        "#training and fitting of the data into the model\n",
        "lr.fit(train_x, train_y)\n",
        "\n",
        "#prediction purpose\n",
        "pred_y = lr.predict(test_x)\n",
        "\n",
        "#creating the dataframe for the value\n",
        "df3 = pd.DataFrame({'Actual': test_y.flatten(), 'Predicted': pred_y.flatten()})\n",
        "print(df3)\n",
        "\n",
        "print(\"*\"*80)\n",
        "r2=metrics.r2_score(test_y, pred_y)\n",
        "print(\"R2{}\",r2)"
      ],
      "metadata": {
        "colab": {
          "base_uri": "https://localhost:8080/"
        },
        "id": "l58_aOYhExER",
        "outputId": "2ac025e5-f3a5-4ae6-e658-4da97b54dff1"
      },
      "execution_count": 44,
      "outputs": [
        {
          "output_type": "stream",
          "name": "stdout",
          "text": [
            "     Actual  Predicted\n",
            "0      21.8  21.159091\n",
            "1      19.8  21.994437\n",
            "2      23.2  27.180723\n",
            "3      15.6  16.218239\n",
            "4       7.5  13.472476\n",
            "..      ...        ...\n",
            "97     18.4  15.847141\n",
            "98     24.7  24.873093\n",
            "99     18.3  19.176406\n",
            "100    13.8   5.811852\n",
            "101    15.2  19.541623\n",
            "\n",
            "[102 rows x 2 columns]\n",
            "********************************************************************************\n",
            "R2{} 0.688724017688114\n"
          ]
        }
      ]
    },
    {
      "cell_type": "code",
      "source": [
        "#here we will do the plotting\n",
        "#this graph shown the multiple linear regression as the asked\n",
        "plt.plot(test_x, pred_y, color=\"green\")   \n",
        "plt.title(\"House Size vs Price (Using Testing Dataset)\")  \n",
        "plt.xlabel(\"House Size (In Square Feets)\")  \n",
        "plt.ylabel(\"Price of the House (Thousand Dollors)\")  \n",
        "plt.show() "
      ],
      "metadata": {
        "colab": {
          "base_uri": "https://localhost:8080/",
          "height": 295
        },
        "id": "S9HHsFWTFiNI",
        "outputId": "100ec2d0-aaca-4a3f-93c2-ef1a4be8152e"
      },
      "execution_count": 47,
      "outputs": [
        {
          "output_type": "display_data",
          "data": {
            "text/plain": [
              "<Figure size 432x288 with 1 Axes>"
            ],
            "image/png": "[encoded data removed]"
          },
          "metadata": {
            "needs_background": "light"
          }
        }
      ]
    },
    {
      "cell_type": "markdown",
      "source": [
        "# **Using Logistic Regression**"
      ],
      "metadata": {
        "id": "KqJYjr4NHHUT"
      }
    },
    {
      "cell_type": "code",
      "source": [
        "#logistic regression model\n",
        "from sklearn.linear_model import LogisticRegression\n",
        "\n",
        "#loading the dataset which is the breast cancer detection\n",
        "cancer_data = datasets.load_breast_cancer()\n",
        "\n",
        "print(\"Feature Names: \",cancer_data.feature_names)\n",
        "print(\"*\"*80)\n",
        "print(\"Target Names: \",cancer_data.target_names)\n",
        "\n",
        "\n"
      ],
      "metadata": {
        "colab": {
          "base_uri": "https://localhost:8080/"
        },
        "id": "pAtJiD_nPNde",
        "outputId": "3586a702-ae4f-45ee-e4e0-c6ae234cfb61"
      },
      "execution_count": 52,
      "outputs": [
        {
          "output_type": "stream",
          "name": "stdout",
          "text": [
            "Feature Names:  ['mean radius' 'mean texture' 'mean perimeter' 'mean area'\n",
            " 'mean smoothness' 'mean compactness' 'mean concavity'\n",
            " 'mean concave points' 'mean symmetry' 'mean fractal dimension'\n",
            " 'radius error' 'texture error' 'perimeter error' 'area error'\n",
            " 'smoothness error' 'compactness error' 'concavity error'\n",
            " 'concave points error' 'symmetry error' 'fractal dimension error'\n",
            " 'worst radius' 'worst texture' 'worst perimeter' 'worst area'\n",
            " 'worst smoothness' 'worst compactness' 'worst concavity'\n",
            " 'worst concave points' 'worst symmetry' 'worst fractal dimension']\n",
            "********************************************************************************\n",
            "Target Names:  ['malignant' 'benign']\n"
          ]
        }
      ]
    },
    {
      "cell_type": "code",
      "source": [
        "#testing and training data splitting\n",
        "train_x, test_x, train_y, test_y = train_test_split(cancer_data.data,cancer_data.target,test_size=0.2,random_state=42)\n",
        "\n",
        "#calling the logistic regression function\n",
        "lr = LogisticRegression()\n",
        "\n",
        "#fitting the model\n",
        "lr.fit(train_x, train_y) \n",
        "pred_y = lr.predict(test_x)\n",
        "\n",
        "print(pred_y)\n",
        "print(\"*\"*80)\n",
        "print(\"Intercept: \",lr.intercept_)\n",
        "print(\"*\"*80)\n",
        "print(\"Slopes: \",lr.coef_)\n"
      ],
      "metadata": {
        "colab": {
          "base_uri": "https://localhost:8080/"
        },
        "id": "j-TEQcy3S1Mp",
        "outputId": "71e9326c-41db-4198-c8da-fab3ce141542"
      },
      "execution_count": 55,
      "outputs": [
        {
          "output_type": "stream",
          "name": "stdout",
          "text": [
            "[1 0 0 1 1 0 0 0 1 1 1 0 1 0 1 0 1 1 1 0 1 1 0 1 1 1 1 1 1 0 1 1 1 1 1 1 0\n",
            " 1 0 1 1 0 1 1 1 1 1 1 1 1 0 0 1 1 1 1 1 0 1 1 1 0 0 1 1 1 0 0 1 1 0 0 1 0\n",
            " 1 1 1 1 1 1 0 1 0 0 0 0 0 0 1 1 1 1 1 1 1 1 0 0 1 0 0 1 0 0 1 1 1 0 1 1 0\n",
            " 1 0 0]\n",
            "********************************************************************************\n",
            "Intercept:  [0.24229794]\n",
            "********************************************************************************\n",
            "Slopes:  [[ 1.27120631  0.53104743  0.09708479 -0.01104135 -0.04880264 -0.23271777\n",
            "  -0.32159675 -0.13762949 -0.07282662 -0.01475604  0.04364483  0.55553143\n",
            "   0.05201804 -0.10287029 -0.00455004 -0.04761377 -0.06574448 -0.01770278\n",
            "  -0.01714852 -0.00417679  1.33641113 -0.56227185 -0.2011313  -0.01532972\n",
            "  -0.08682724 -0.70238356 -0.8682992  -0.25450112 -0.23456291 -0.06531525]]\n"
          ]
        },
        {
          "output_type": "stream",
          "name": "stderr",
          "text": [
            "/usr/local/lib/python3.7/dist-packages/sklearn/linear_model/_logistic.py:818: ConvergenceWarning: lbfgs failed to converge (status=1):\n",
            "STOP: TOTAL NO. of ITERATIONS REACHED LIMIT.\n",
            "\n",
            "Increase the number of iterations (max_iter) or scale the data as shown in:\n",
            "    https://scikit-learn.org/stable/modules/preprocessing.html\n",
            "Please also refer to the documentation for alternative solver options:\n",
            "    https://scikit-learn.org/stable/modules/linear_model.html#logistic-regression\n",
            "  extra_warning_msg=_LOGISTIC_SOLVER_CONVERGENCE_MSG,\n"
          ]
        }
      ]
    },
    {
      "cell_type": "code",
      "source": [
        "#Lets assess the model\n",
        "from sklearn.metrics import classification_report\n",
        "from sklearn.metrics import confusion_matrix,accuracy_score,plot_confusion_matrix\n",
        "print(classification_report(test_y, pred_y))\n",
        "print(\"*\"*80)\n",
        "print(\"Confusion Matrix: \",confusion_matrix(test_y, pred_y))\n",
        "print(\"*\"*80)\n",
        "print(\"Accuracy Score: \",accuracy_score(test_y, pred_y))\n",
        "\n",
        "plot_confusion_matrix(lr, test_x, test_y.reshape(-1, 1))"
      ],
      "metadata": {
        "colab": {
          "base_uri": "https://localhost:8080/",
          "height": 589
        },
        "id": "_XIR0RjuTQix",
        "outputId": "3cbc9370-8134-459d-9e6f-43f471af959e"
      },
      "execution_count": 59,
      "outputs": [
        {
          "output_type": "stream",
          "name": "stdout",
          "text": [
            "              precision    recall  f1-score   support\n",
            "\n",
            "           0       0.98      0.93      0.95        43\n",
            "           1       0.96      0.99      0.97        71\n",
            "\n",
            "    accuracy                           0.96       114\n",
            "   macro avg       0.97      0.96      0.96       114\n",
            "weighted avg       0.97      0.96      0.96       114\n",
            "\n",
            "********************************************************************************\n",
            "Confusion Matrix:  [[40  3]\n",
            " [ 1 70]]\n",
            "********************************************************************************\n",
            "Accuracy Score:  0.9649122807017544\n"
          ]
        },
        {
          "output_type": "stream",
          "name": "stderr",
          "text": [
            "/usr/local/lib/python3.7/dist-packages/sklearn/utils/deprecation.py:87: FutureWarning: Function plot_confusion_matrix is deprecated; Function `plot_confusion_matrix` is deprecated in 1.0 and will be removed in 1.2. Use one of the class methods: ConfusionMatrixDisplay.from_predictions or ConfusionMatrixDisplay.from_estimator.\n",
            "  warnings.warn(msg, category=FutureWarning)\n"
          ]
        },
        {
          "output_type": "execute_result",
          "data": {
            "text/plain": [
              "<sklearn.metrics._plot.confusion_matrix.ConfusionMatrixDisplay at 0x7f5ce31943d0>"
            ]
          },
          "metadata": {},
          "execution_count": 59
        },
        {
          "output_type": "display_data",
          "data": {
            "text/plain": [
              "<Figure size 432x288 with 2 Axes>"
            ],
            "image/png": "[encoded data removed]"
          },
          "metadata": {
            "needs_background": "light"
          }
        }
      ]
    },
    {
      "cell_type": "markdown",
      "source": [
        "# **Using Polynomial regression**"
      ],
      "metadata": {
        "id": "K1jF-jcUUa1r"
      }
    },
    {
      "cell_type": "code",
      "source": [
        "#importing the libraries\n",
        "from sklearn.preprocessing import PolynomialFeatures\n",
        "from sklearn.linear_model import LinearRegression\n",
        "\n",
        "#here we will create the dataset of our own choice\n",
        "x = np.arange(0, 30)\n",
        "y = [3, 4, 5, 7, 10, 8, 9, 10, 10, 23, 27, 44, 50, 63, 67, 60, 62, 70, 75, 88, 81, 87, 95, 100, 108, 135, 151, 160, 169, 179]\n",
        "\n",
        "#here degree 3 shows that we want to work on x^2 polynomial\n",
        "poly = PolynomialFeatures(degree=2, include_bias=False)\n",
        "\n",
        "#creating new features\n",
        "poly_features = poly.fit_transform(x.reshape(-1, 1))\n",
        "\n",
        "#instance of the linear model and fitting the model\n",
        "poly_reg_model = LinearRegression()\n",
        "poly_reg_model.fit(poly_features, y)\n",
        "\n",
        "#predicted values\n",
        "y_predicted = poly_reg_model.predict(poly_features)\n",
        "print(y_predicted)\n",
        "\n",
        "plt.figure(figsize=(10, 6))\n",
        "plt.title(\" polynomial regression \", size=16)\n",
        "plt.scatter(x, y)\n",
        "plt.plot(x, y_predicted, c=\"blue\")\n",
        "plt.show()"
      ],
      "metadata": {
        "colab": {
          "base_uri": "https://localhost:8080/",
          "height": 493
        },
        "id": "Q9aoP77AUi_B",
        "outputId": "5f1ac563-41d7-4f99-e708-cab635caafaf"
      },
      "execution_count": 64,
      "outputs": [
        {
          "output_type": "stream",
          "name": "stdout",
          "text": [
            "[  1.70806452   3.04187987   4.70292388   6.69119657   9.00669792\n",
            "  11.64942794  14.61938662  17.91657397  21.54098999  25.49263467\n",
            "  29.77150802  34.37761004  39.31094073  44.57150008  50.1592881\n",
            "  56.07430478  62.31655014  68.88602415  75.78272684  83.00665819\n",
            "  90.55781821  98.4362069  106.64182425 115.17467027 124.03474495\n",
            " 133.22204831 142.73658033 152.57834101 162.74733037 173.24354839]\n"
          ]
        },
        {
          "output_type": "display_data",
          "data": {
            "text/plain": [
              "<Figure size 720x432 with 1 Axes>"
            ],
            "image/png": "[encoded data removed]"
          },
          "metadata": {
            "needs_background": "light"
          }
        }
      ]
    }
  ]
}