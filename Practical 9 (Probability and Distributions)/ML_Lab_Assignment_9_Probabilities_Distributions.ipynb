{
  "nbformat": 4,
  "nbformat_minor": 0,
  "metadata": {
    "colab": {
      "provenance": [],
      "collapsed_sections": [
        "HnVTIUMNcOcA",
        "UWvBb-h3j5BY"
      ],
      "authorship_tag": "ABX9TyMEqu4ptDbCqrOluVI7qGXD",
      "include_colab_link": true
    },
    "kernelspec": {
      "name": "python3",
      "display_name": "Python 3"
    },
    "language_info": {
      "name": "python"
    }
  },
  "cells": [
    {
      "cell_type": "markdown",
      "metadata": {
        "id": "view-in-github",
        "colab_type": "text"
      },
      "source": [
        "<a href=\"https://colab.research.google.com/github/darshanjoshi16/MachineLearningPracticals/blob/main/Practical%209%20(Probability%20and%20Distributions)/ML_Lab_Assignment_9_Probabilities_Distributions.ipynb\" target=\"_parent\"><img src=\"https://colab.research.google.com/assets/colab-badge.svg\" alt=\"Open In Colab\"/></a>"
      ]
    },
    {
      "cell_type": "markdown",
      "source": [
        "# **Probability and Data Distributions**"
      ],
      "metadata": {
        "id": "Udy-3VNRcGfp"
      }
    },
    {
      "cell_type": "markdown",
      "source": [
        "# **Basic Level**"
      ],
      "metadata": {
        "id": "HnVTIUMNcOcA"
      }
    },
    {
      "cell_type": "code",
      "source": [
        "#implementation of normal distrbution\n",
        "\n",
        "#importing the libraries\n",
        "import scipy.stats\n",
        "import numpy as np\n",
        "import matplotlib.pyplot as plt\n",
        "\n",
        "np.random.seed(1234)\n",
        "\n",
        "\n",
        "samples=np.random.lognormal(mean=1.,sigma=.4,size=10000)\n",
        "\n",
        "shape,loc,scale=scipy.stats.lognorm.fit(samples,floc=0)\n",
        "\n",
        "num_bins=50\n",
        "clr=\"#EFEFEF\"\n",
        "\n",
        "counts,edges,patches=plt.hist(samples,bins=num_bins,color=clr)\n",
        "centers=0.5*(edges[:-1]+edges[1:])\n",
        "cdf=scipy.stats.lognorm.cdf(edges,shape,loc=loc,scale=scale)\n",
        "\n",
        "prob=np.diff(cdf)\n",
        "\n",
        "plt.plot(centers,samples.size*prob,'k-',linewidth=2)\n",
        "plt.show()\n"
      ],
      "metadata": {
        "colab": {
          "base_uri": "https://localhost:8080/",
          "height": 266
        },
        "id": "2u9v3gzRcRRk",
        "outputId": "f63a0dd2-8569-43f7-977d-ec8eb5042f08"
      },
      "execution_count": 1,
      "outputs": [
        {
          "output_type": "display_data",
          "data": {
            "text/plain": [
              "<Figure size 432x288 with 1 Axes>"
            ],
            "image/png": "[encoded data removed]"
          },
          "metadata": {
            "needs_background": "light"
          }
        }
      ]
    },
    {
      "cell_type": "code",
      "source": [
        "#implementation of binomial distribution\n",
        "\n",
        "#importing the library\n",
        "import seaborn\n",
        "from scipy.stats import binom\n",
        "\n",
        "data=binom.rvs(n=17,p=0.7,loc=0,size=1010)\n",
        "ax=seaborn.distplot(data,kde=True,color='pink',hist_kws={\"linewidth\": 22,'alpha':0.77})\n",
        "\n",
        "ax.set(xlabel='Binomial',ylabel='Frequency')\n",
        "plt.show()"
      ],
      "metadata": {
        "colab": {
          "base_uri": "https://localhost:8080/",
          "height": 333
        },
        "id": "UJ2dDqUceIW_",
        "outputId": "4442539f-d713-4d2c-faa9-20f3a872a27d"
      },
      "execution_count": 2,
      "outputs": [
        {
          "output_type": "stream",
          "name": "stderr",
          "text": [
            "/usr/local/lib/python3.7/dist-packages/seaborn/distributions.py:2619: FutureWarning: `distplot` is a deprecated function and will be removed in a future version. Please adapt your code to use either `displot` (a figure-level function with similar flexibility) or `histplot` (an axes-level function for histograms).\n",
            "  warnings.warn(msg, FutureWarning)\n"
          ]
        },
        {
          "output_type": "display_data",
          "data": {
            "text/plain": [
              "<Figure size 432x288 with 1 Axes>"
            ],
            "image/png": "[encoded data removed]"
          },
          "metadata": {
            "needs_background": "light"
          }
        }
      ]
    },
    {
      "cell_type": "code",
      "source": [
        "#implementation of the poisson distribution\n",
        "import numpy as np\n",
        "import matplotlib.pyplot as plt\n",
        "\n",
        "s=np.random.poisson(5, 10000)\n",
        " \n",
        "plt.hist(s,16,color='Green')\n",
        "plt.show()"
      ],
      "metadata": {
        "colab": {
          "base_uri": "https://localhost:8080/",
          "height": 265
        },
        "id": "HFlhifrdejzO",
        "outputId": "1d400051-fe4c-405f-9076-80920d766435"
      },
      "execution_count": 5,
      "outputs": [
        {
          "output_type": "display_data",
          "data": {
            "text/plain": [
              "<Figure size 432x288 with 1 Axes>"
            ],
            "image/png": "[encoded data removed]"
          },
          "metadata": {
            "needs_background": "light"
          }
        }
      ]
    },
    {
      "cell_type": "code",
      "source": [
        "#implementation of bernoulli distribution\n",
        "s=np.random.binomial(10,0.5,1000)\n",
        "plt.hist(s,16,color='Brown')"
      ],
      "metadata": {
        "colab": {
          "base_uri": "https://localhost:8080/",
          "height": 366
        },
        "id": "-djALRChfpJK",
        "outputId": "91019301-09f8-4e2f-cf50-001963e9d395"
      },
      "execution_count": 6,
      "outputs": [
        {
          "output_type": "execute_result",
          "data": {
            "text/plain": [
              "(array([  1.,   6.,   0.,  44., 115.,   0., 193.,   0., 279., 194.,   0.,\n",
              "        115.,  45.,   0.,   6.,   2.]),\n",
              " array([ 0.   ,  0.625,  1.25 ,  1.875,  2.5  ,  3.125,  3.75 ,  4.375,\n",
              "         5.   ,  5.625,  6.25 ,  6.875,  7.5  ,  8.125,  8.75 ,  9.375,\n",
              "        10.   ]),\n",
              " <a list of 16 Patch objects>)"
            ]
          },
          "metadata": {},
          "execution_count": 6
        },
        {
          "output_type": "display_data",
          "data": {
            "text/plain": [
              "<Figure size 432x288 with 1 Axes>"
            ],
            "image/png": "[encoded data removed]"
          },
          "metadata": {
            "needs_background": "light"
          }
        }
      ]
    },
    {
      "cell_type": "markdown",
      "source": [
        "Write a python code for the following distributions:\n",
        "\n",
        "a. Uniform\n",
        "\n",
        "b. Exponential\n",
        "\n",
        "c. Weibull\n",
        "\n",
        "d. Gussian"
      ],
      "metadata": {
        "id": "rEMuI76hghe9"
      }
    },
    {
      "cell_type": "code",
      "source": [
        "#importing module\n",
        "import numpy as np\n",
        "import matplotlib.pyplot as plt\n",
        "import seaborn as sns\n",
        "\n",
        "#Implementation of Uniform distributions\n",
        "print(\"Uniform Distribution\")\n",
        "print(\"-\"*80)\n",
        "\n",
        "random_array = np.random.uniform(20.0,50.0, 5)\n",
        "\n",
        "print(\"1D Array with random values : \\n\", random_array)\n",
        "print()\n",
        "\n",
        "\n",
        "\n",
        "\n",
        "#Implementation of Exponential Distributions\n",
        "print(\"Exponential Distribution\")\n",
        "print(\"-\"*80)\n",
        "\n",
        "# Using exponential() method\n",
        "exp = np.random.exponential(43.20, 10000)\n",
        "count, bins, ignored = plt.hist(exp, 14, density = True)\n",
        "plt.show()\n",
        "print()\n",
        "\n",
        "\n",
        "#implementation of Weibull Distributions\n",
        "print(\"Weibull Distribution\")\n",
        "print(\"-\"*80)\n",
        "# Using weibull() method\n",
        "weib = np.random.weibull(2000, 4300)\n",
        "plt.hist(weib, bins = 20, density = True)\n",
        "plt.show()\n",
        "print()\n",
        "\n",
        "#implementation of gaussian(Normal) distribution\n",
        "print(\"Gaussian(Normal) Distribution\")\n",
        "print(\"-\"*80)\n",
        "\n",
        "# numpy.random.normal() method\n",
        "r = np.random.normal(size=1500)\n",
        "print(r)\n",
        "sns.distplot(r, hist=False)\n",
        "plt.show()\n",
        "\n"
      ],
      "metadata": {
        "colab": {
          "base_uri": "https://localhost:8080/",
          "height": 1000
        },
        "id": "fVdXD3Vggm6k",
        "outputId": "a10a6ed7-6c91-47f2-b4b3-26485225364a"
      },
      "execution_count": 13,
      "outputs": [
        {
          "output_type": "stream",
          "name": "stdout",
          "text": [
            "Uniform Distribution\n",
            "--------------------------------------------------------------------------------\n",
            "1D Array with random values : \n",
            " [44.43833823 34.55073215 45.70926074 38.6882292  26.66282283]\n",
            "\n",
            "Exponential Distribution\n",
            "--------------------------------------------------------------------------------\n"
          ]
        },
        {
          "output_type": "display_data",
          "data": {
            "text/plain": [
              "<Figure size 432x288 with 1 Axes>"
            ],
            "image/png": "[encoded data removed]"
          },
          "metadata": {
            "needs_background": "light"
          }
        },
        {
          "output_type": "stream",
          "name": "stdout",
          "text": [
            "\n",
            "Weibull Distribution\n",
            "--------------------------------------------------------------------------------\n"
          ]
        },
        {
          "output_type": "display_data",
          "data": {
            "text/plain": [
              "<Figure size 432x288 with 1 Axes>"
            ],
            "image/png": "[encoded data removed]"
          },
          "metadata": {
            "needs_background": "light"
          }
        },
        {
          "output_type": "stream",
          "name": "stdout",
          "text": [
            "\n",
            "Gaussian(Normal) Distribution\n",
            "--------------------------------------------------------------------------------\n",
            "[-0.37291704  0.53628784  3.63117789 ... -0.00780558  0.89318828\n",
            "  0.01032149]\n"
          ]
        },
        {
          "output_type": "stream",
          "name": "stderr",
          "text": [
            "/usr/local/lib/python3.7/dist-packages/seaborn/distributions.py:2619: FutureWarning: `distplot` is a deprecated function and will be removed in a future version. Please adapt your code to use either `displot` (a figure-level function with similar flexibility) or `kdeplot` (an axes-level function for kernel density plots).\n",
            "  warnings.warn(msg, FutureWarning)\n"
          ]
        },
        {
          "output_type": "display_data",
          "data": {
            "text/plain": [
              "<Figure size 432x288 with 1 Axes>"
            ],
            "image/png": "[encoded data removed]"
          },
          "metadata": {
            "needs_background": "light"
          }
        }
      ]
    },
    {
      "cell_type": "markdown",
      "source": [
        "# **Intermediate Level**"
      ],
      "metadata": {
        "id": "UWvBb-h3j5BY"
      }
    },
    {
      "cell_type": "markdown",
      "source": [
        "1. Write a python program to define a distribution with a mean of 50 and a standard deviation of 5 and sample random numbers from this distribution."
      ],
      "metadata": {
        "id": "ag60UoZGj-5V"
      }
    },
    {
      "cell_type": "code",
      "source": [
        "import numpy as np\n",
        "\n",
        "\n",
        "#here loc shows the mean 50 and standard deviation of 5\n",
        "x = np.random.normal(loc=50, scale=5, size=(3,3))\n",
        "\n",
        "x = np.array(x)\n",
        "x = x.reshape(1,-1)\n",
        "\n",
        "print(x)"
      ],
      "metadata": {
        "colab": {
          "base_uri": "https://localhost:8080/"
        },
        "id": "nRvvclkMkHmb",
        "outputId": "e6d1412b-68b1-4e55-ae06-5b7e34a05f9a"
      },
      "execution_count": 27,
      "outputs": [
        {
          "output_type": "stream",
          "name": "stdout",
          "text": [
            "[[47.01449606 51.01465818 47.14594036 52.70538469 38.90351881 46.6940293\n",
            "  59.23994182 48.29739146 46.21748227]]\n"
          ]
        }
      ]
    },
    {
      "cell_type": "markdown",
      "source": [
        "2. For the above distribution calculate each observation using the probability density\n",
        "function. A plot of these values would give us the tell-tale bell shape. The start and end\n",
        "range must be given by users."
      ],
      "metadata": {
        "id": "IaS2Z7IHlQpt"
      }
    },
    {
      "cell_type": "code",
      "source": [
        "import matplotlib.pyplot as plt\n",
        "import seaborn as sns\n",
        "from scipy.integrate import quad\n",
        "from sklearn.neighbors import KernelDensity\n",
        "\n",
        "# Get probability for range of values\n",
        "start = 45  # Start of the range\n",
        "end = 55    # End of the range\n",
        "kd = KernelDensity(kernel='gaussian', bandwidth=0.75).fit(x)\n",
        "\n",
        "probability = quad(lambda x2: np.exp(kd.score_samples(x)), start, end)[0]\n",
        "print(probability)\n",
        "\n",
        "sns.distplot(x, hist=False)\n",
        "\n",
        "plt.show()"
      ],
      "metadata": {
        "colab": {
          "base_uri": "https://localhost:8080/",
          "height": 335
        },
        "id": "Wm10paSDlahV",
        "outputId": "6307ce32-68bc-4e47-d18f-670560f3219d"
      },
      "execution_count": 32,
      "outputs": [
        {
          "output_type": "stream",
          "name": "stdout",
          "text": [
            "0.034090959273722736\n"
          ]
        },
        {
          "output_type": "stream",
          "name": "stderr",
          "text": [
            "/usr/local/lib/python3.7/dist-packages/seaborn/distributions.py:2619: FutureWarning: `distplot` is a deprecated function and will be removed in a future version. Please adapt your code to use either `displot` (a figure-level function with similar flexibility) or `kdeplot` (an axes-level function for kernel density plots).\n",
            "  warnings.warn(msg, FutureWarning)\n"
          ]
        },
        {
          "output_type": "display_data",
          "data": {
            "text/plain": [
              "<Figure size 432x288 with 1 Axes>"
            ],
            "image/png": "[encoded data removed]"
          },
          "metadata": {
            "needs_background": "light"
          }
        }
      ]
    },
    {
      "cell_type": "markdown",
      "source": [
        "3. Write a python program to display 20 numbers from the exponential distribution. In\n",
        "addition, for the observations between 50 and 70 do calculate the probability and\n",
        "cumulative probability for each and plot the result."
      ],
      "metadata": {
        "id": "MO1iPO71pMvb"
      }
    },
    {
      "cell_type": "code",
      "source": [
        "# sample an exponential distribution\n",
        "from numpy.random import exponential\n",
        "from scipy.stats import expon\n",
        "from matplotlib import pyplot\n",
        "\n",
        "# define the distribution\n",
        "beta = 50\n",
        "n = 20\n",
        "# generate the sample\n",
        "sample = exponential(beta, n)\n",
        "print(\"Sample 20 Numbers: \")\n",
        "print(sample)\n",
        "print()\n",
        "\n",
        "# create distribution\n",
        "dist = expon(beta)\n",
        "\n",
        "# plot probability distribution function\n",
        "values = [value for value in range(50, 70)]\n",
        "probabilities = [dist.pdf(value) for value in values]\n",
        "print(\"Probability Density Function\")\n",
        "pyplot.plot(values, probabilities)\n",
        "pyplot.show()\n",
        "print()\n",
        "# plot cdf\n",
        "print(\"Cummulative Probability\")\n",
        "cprobs = [dist.cdf(value) for value in values]\n",
        "pyplot.plot(values, cprobs)\n",
        "pyplot.show()"
      ],
      "metadata": {
        "colab": {
          "base_uri": "https://localhost:8080/",
          "height": 664
        },
        "id": "-8EC0oJlpS4D",
        "outputId": "ec54dcf1-2581-4e11-b172-fc7ad19ab8f5"
      },
      "execution_count": 47,
      "outputs": [
        {
          "output_type": "stream",
          "name": "stdout",
          "text": [
            "Sample 20 Numbers: \n",
            "[ 54.38461974  30.45897004  15.6285157   19.46919904   2.80811028\n",
            " 211.46632075  31.68161461  45.62500309  33.01808221   4.90030673\n",
            "  51.08433252   1.66557147  26.98359431  30.69889726  94.61287926\n",
            "  85.37597009  11.98907622  64.4308282    7.53756393  39.12898997]\n",
            "\n",
            "Probability Density Function\n"
          ]
        },
        {
          "output_type": "display_data",
          "data": {
            "text/plain": [
              "<Figure size 432x288 with 1 Axes>"
            ],
            "image/png": "[encoded data removed]"
          },
          "metadata": {
            "needs_background": "light"
          }
        },
        {
          "output_type": "stream",
          "name": "stdout",
          "text": [
            "\n",
            "Cummulative Probability\n"
          ]
        },
        {
          "output_type": "display_data",
          "data": {
            "text/plain": [
              "<Figure size 432x288 with 1 Axes>"
            ],
            "image/png": "[encoded data removed]"
          },
          "metadata": {
            "needs_background": "light"
          }
        }
      ]
    },
    {
      "cell_type": "markdown",
      "source": [
        "4. A survey found that 65% of all the financial consumers were very satisfied with their\n",
        "primary financial institutions. Suppose that 25 financial consumers are sampled and if\n",
        "survey results still hold true today, what is the probability that exactly 19 are very\n",
        "satisfied with their primary financial institutions?"
      ],
      "metadata": {
        "id": "muqTVPAruBrN"
      }
    },
    {
      "cell_type": "code",
      "source": [
        "from scipy.stats import binom\n",
        "from numpy import random\n",
        "\n",
        "#generate an array of 20 values that follow a binomial distribution\n",
        "print(random.binomial(n=25, p=.65, size=20))\n",
        "\n",
        "#calculate binomial probability\n",
        "binom.pmf(k=19, n=25, p=0.65)\n",
        "\n"
      ],
      "metadata": {
        "colab": {
          "base_uri": "https://localhost:8080/"
        },
        "id": "1fA9RyR0uQe5",
        "outputId": "2819a073-084a-4a23-cb69-4dcb97d1a040"
      },
      "execution_count": 52,
      "outputs": [
        {
          "output_type": "stream",
          "name": "stdout",
          "text": [
            "[20  9 16 17 17 19 20 12 17 14 12 20 21 17 18 14 14 16 19 12]\n"
          ]
        },
        {
          "output_type": "execute_result",
          "data": {
            "text/plain": [
              "0.090777998593228"
            ]
          },
          "metadata": {},
          "execution_count": 52
        }
      ]
    },
    {
      "cell_type": "markdown",
      "source": [
        "5. Bank customers arrive randomly on weekday afternoons at an average of 3.2 customers\n",
        "per 4 minutes. What is the probability of having more than 7 customers in a 4-minute\n",
        "interval on a weekday afternoon? Accept the inputs from the user and plot the appropriate\n",
        "probability distribution functions."
      ],
      "metadata": {
        "id": "jJq6S1NBwGMR"
      }
    },
    {
      "cell_type": "code",
      "source": [
        "from scipy.stats import poisson\n",
        "\n",
        "x = float(input(\"Enter the count of customer data which is already available: \"))\n",
        "y = float(input(\"Enter the count you want to find out the probability: \"))\n",
        "\n",
        "prob=poisson.cdf(y,x)\n",
        "ans=1-prob\n",
        "print(\"Probability asked in the question: \",ans)"
      ],
      "metadata": {
        "colab": {
          "base_uri": "https://localhost:8080/"
        },
        "id": "HGBsyp6awLnM",
        "outputId": "3f42b392-acdb-4811-f3ec-8274e89e5ddf"
      },
      "execution_count": 56,
      "outputs": [
        {
          "output_type": "stream",
          "name": "stdout",
          "text": [
            "Enter the count of customer data which is already available: 3.2\n",
            "Enter the count you want to find out the probability: 7\n",
            "Probability asked in the question:  0.01682984174895752\n"
          ]
        }
      ]
    },
    {
      "cell_type": "markdown",
      "source": [
        "6. Suppose the amount of time it takes to assemble a plastic module ranges from 27 to 39\n",
        "seconds and that assembly times are uniformly distributed. Describe the distribution.\n",
        "What is the probability that a given assembly will take between 30 and 35 seconds to\n",
        "complete?"
      ],
      "metadata": {
        "id": "YOB4MKlExhj0"
      }
    },
    {
      "cell_type": "code",
      "source": [
        "from scipy.stats import uniform\n",
        "\n",
        "uni=np.arange(27,40,1)\n",
        "print(uni)\n",
        "print(\"*\"*50)\n",
        "\n",
        "print(\"mean of given list:\",uniform.mean(loc=27,scale=12))\n",
        "print(\"*\"*50)\n",
        "\n",
        "dist = uniform.cdf(np.arange(30,36,1),loc=27,scale=12)\n",
        "print(dist)\n",
        "print(\"*\"*50)\n",
        "\n",
        "prob = (dist[-1] - dist[0])\n",
        "print(prob)\n"
      ],
      "metadata": {
        "colab": {
          "base_uri": "https://localhost:8080/"
        },
        "id": "6_VuEJeBxjzL",
        "outputId": "fabf7e00-d0e7-4f95-8e19-494f30ff631c"
      },
      "execution_count": 71,
      "outputs": [
        {
          "output_type": "stream",
          "name": "stdout",
          "text": [
            "[27 28 29 30 31 32 33 34 35 36 37 38 39]\n",
            "**************************************************\n",
            "mean of given list: 33.0\n",
            "**************************************************\n",
            "[0.25       0.33333333 0.41666667 0.5        0.58333333 0.66666667]\n",
            "**************************************************\n",
            "0.41666666666666663\n"
          ]
        }
      ]
    }
  ]
}